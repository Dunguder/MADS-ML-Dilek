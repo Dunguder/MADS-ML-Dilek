{
 "cells": [
  {
   "attachments": {},
   "cell_type": "markdown",
   "metadata": {},
   "source": [
    "First:\n",
    "- go to the terminal\n",
    "- go to the `4_tuning_networks` folder, use `cd` to get there, or `z` to get there faster.\n",
    "- if you are planning on closing the laptop to let this run by itself, start a tmux session by giving the command `tmux`. You can name the session with `ctrl+b $`, leave the tmux with `ctrl+b` d, access it again with `tmux a -t 0` or replace the 0 with the name you gave it. See [tmux](https://github.com/tmux/tmux/wiki/Getting-Started) for more info.\n",
    "- Activate the `.venv`, and run `python hypertune.py`\n",
    "- In the hypertune.py file, a tune_dir is specified: `models/ray`. We will check the contents of that folder after the hypertune finished. You can also use tensorboard to check the results. \n",
    "- this will take some time. I clocked 1901 seconds (30 minutes) on the VM"
   ]
  },
  {
   "attachments": {},
   "cell_type": "markdown",
   "metadata": {},
   "source": [
    " 0.0992908 |           119 |            3 |     26 |         576.744  |    0 |   0.942187"
   ]
  },
  {
   "cell_type": "code",
   "execution_count": 5,
   "metadata": {},
   "outputs": [
    {
     "data": {
      "text/plain": [
       "True"
      ]
     },
     "execution_count": 5,
     "metadata": {},
     "output_type": "execute_result"
    }
   ],
   "source": [
    "from pathlib import Path\n",
    "tune_dir = Path(\"models/ray\").resolve()\n",
    "tune_dir.exists()"
   ]
  },
  {
   "cell_type": "code",
   "execution_count": 6,
   "metadata": {},
   "outputs": [
    {
     "data": {
      "text/plain": [
       "WindowsPath('C:/Users/dilek/Desktop/Advanced_AI_Applications_WS24-25_MADS_HSRW/notebooks/4_tuning_networks/models/ray/tune_model_2024-11-18_14-30-24')"
      ]
     },
     "execution_count": 6,
     "metadata": {},
     "output_type": "execute_result"
    }
   ],
   "source": [
    "tunelogs = [d for d in tune_dir.iterdir()]\n",
    "tunelogs.sort()\n",
    "latest = tunelogs[-1]\n",
    "latest"
   ]
  },
  {
   "cell_type": "code",
   "execution_count": 7,
   "metadata": {},
   "outputs": [
    {
     "name": "stderr",
     "output_type": "stream",
     "text": [
      "2024-11-24 11:29:19,195\tINFO worker.py:1582 -- Calling ray.init() again after it has already been called.\n",
      "2024-11-24 11:29:19,206\tWARNING experiment_analysis.py:180 -- Failed to fetch metrics for 18 trial(s):\n",
      "- tune_model_44781_00006: FileNotFoundError('Could not fetch metrics for tune_model_44781_00006: both result.json and progress.csv were not found at C:/Users/dilek/Desktop/Advanced_AI_Applications_WS24-25_MADS_HSRW/notebooks/4_tuning_networks/models/ray/tune_model_2024-11-18_14-30-24/tune_model_44781_00006_6_hidden_size=293,num_layers=2_2024-11-18_14-30-24')\n",
      "- tune_model_44781_00005: FileNotFoundError('Could not fetch metrics for tune_model_44781_00005: both result.json and progress.csv were not found at C:/Users/dilek/Desktop/Advanced_AI_Applications_WS24-25_MADS_HSRW/notebooks/4_tuning_networks/models/ray/tune_model_2024-11-18_14-30-24/tune_model_44781_00005_5_hidden_size=280,num_layers=7_2024-11-18_14-30-24')\n",
      "- tune_model_44781_00009: FileNotFoundError('Could not fetch metrics for tune_model_44781_00009: both result.json and progress.csv were not found at C:/Users/dilek/Desktop/Advanced_AI_Applications_WS24-25_MADS_HSRW/notebooks/4_tuning_networks/models/ray/tune_model_2024-11-18_14-30-24/tune_model_44781_00009_9_hidden_size=240,num_layers=6_2024-11-18_14-30-24')\n",
      "- tune_model_44781_00011: FileNotFoundError('Could not fetch metrics for tune_model_44781_00011: both result.json and progress.csv were not found at C:/Users/dilek/Desktop/Advanced_AI_Applications_WS24-25_MADS_HSRW/notebooks/4_tuning_networks/models/ray/tune_model_2024-11-18_14-30-24/tune_model_44781_00011_11_hidden_size=269,num_layers=5_2024-11-18_14-30-24')\n",
      "- tune_model_44781_00014: FileNotFoundError('Could not fetch metrics for tune_model_44781_00014: both result.json and progress.csv were not found at C:/Users/dilek/Desktop/Advanced_AI_Applications_WS24-25_MADS_HSRW/notebooks/4_tuning_networks/models/ray/tune_model_2024-11-18_14-30-24/tune_model_44781_00014_14_hidden_size=216,num_layers=2_2024-11-18_14-30-24')\n",
      "- tune_model_44781_00016: FileNotFoundError('Could not fetch metrics for tune_model_44781_00016: both result.json and progress.csv were not found at C:/Users/dilek/Desktop/Advanced_AI_Applications_WS24-25_MADS_HSRW/notebooks/4_tuning_networks/models/ray/tune_model_2024-11-18_14-30-24/tune_model_44781_00016_16_hidden_size=260,num_layers=6_2024-11-18_14-30-25')\n",
      "- tune_model_44781_00003: FileNotFoundError('Could not fetch metrics for tune_model_44781_00003: both result.json and progress.csv were not found at C:/Users/dilek/Desktop/Advanced_AI_Applications_WS24-25_MADS_HSRW/notebooks/4_tuning_networks/models/ray/tune_model_2024-11-18_14-30-24/tune_model_44781_00003_3_hidden_size=228,num_layers=3_2024-11-18_14-30-24')\n",
      "- tune_model_44781_00000: FileNotFoundError('Could not fetch metrics for tune_model_44781_00000: both result.json and progress.csv were not found at C:/Users/dilek/Desktop/Advanced_AI_Applications_WS24-25_MADS_HSRW/notebooks/4_tuning_networks/models/ray/tune_model_2024-11-18_14-30-24/tune_model_44781_00000_0_hidden_size=443,num_layers=6_2024-11-18_14-30-24')\n",
      "- tune_model_44781_00008: FileNotFoundError('Could not fetch metrics for tune_model_44781_00008: both result.json and progress.csv were not found at C:/Users/dilek/Desktop/Advanced_AI_Applications_WS24-25_MADS_HSRW/notebooks/4_tuning_networks/models/ray/tune_model_2024-11-18_14-30-24/tune_model_44781_00008_8_hidden_size=305,num_layers=5_2024-11-18_14-30-24')\n",
      "- tune_model_44781_00010: FileNotFoundError('Could not fetch metrics for tune_model_44781_00010: both result.json and progress.csv were not found at C:/Users/dilek/Desktop/Advanced_AI_Applications_WS24-25_MADS_HSRW/notebooks/4_tuning_networks/models/ray/tune_model_2024-11-18_14-30-24/tune_model_44781_00010_10_hidden_size=31,num_layers=7_2024-11-18_14-30-24')\n",
      "- tune_model_44781_00004: FileNotFoundError('Could not fetch metrics for tune_model_44781_00004: both result.json and progress.csv were not found at C:/Users/dilek/Desktop/Advanced_AI_Applications_WS24-25_MADS_HSRW/notebooks/4_tuning_networks/models/ray/tune_model_2024-11-18_14-30-24/tune_model_44781_00004_4_hidden_size=49,num_layers=7_2024-11-18_14-30-24')\n",
      "- tune_model_44781_00001: FileNotFoundError('Could not fetch metrics for tune_model_44781_00001: both result.json and progress.csv were not found at C:/Users/dilek/Desktop/Advanced_AI_Applications_WS24-25_MADS_HSRW/notebooks/4_tuning_networks/models/ray/tune_model_2024-11-18_14-30-24/tune_model_44781_00001_1_hidden_size=505,num_layers=6_2024-11-18_14-30-24')\n",
      "- tune_model_44781_00007: FileNotFoundError('Could not fetch metrics for tune_model_44781_00007: both result.json and progress.csv were not found at C:/Users/dilek/Desktop/Advanced_AI_Applications_WS24-25_MADS_HSRW/notebooks/4_tuning_networks/models/ray/tune_model_2024-11-18_14-30-24/tune_model_44781_00007_7_hidden_size=315,num_layers=5_2024-11-18_14-30-24')\n",
      "- tune_model_44781_00012: FileNotFoundError('Could not fetch metrics for tune_model_44781_00012: both result.json and progress.csv were not found at C:/Users/dilek/Desktop/Advanced_AI_Applications_WS24-25_MADS_HSRW/notebooks/4_tuning_networks/models/ray/tune_model_2024-11-18_14-30-24/tune_model_44781_00012_12_hidden_size=271,num_layers=5_2024-11-18_14-30-24')\n",
      "- tune_model_44781_00002: FileNotFoundError('Could not fetch metrics for tune_model_44781_00002: both result.json and progress.csv were not found at C:/Users/dilek/Desktop/Advanced_AI_Applications_WS24-25_MADS_HSRW/notebooks/4_tuning_networks/models/ray/tune_model_2024-11-18_14-30-24/tune_model_44781_00002_2_hidden_size=214,num_layers=1_2024-11-18_14-30-24')\n",
      "- tune_model_44781_00013: FileNotFoundError('Could not fetch metrics for tune_model_44781_00013: both result.json and progress.csv were not found at C:/Users/dilek/Desktop/Advanced_AI_Applications_WS24-25_MADS_HSRW/notebooks/4_tuning_networks/models/ray/tune_model_2024-11-18_14-30-24/tune_model_44781_00013_13_hidden_size=39,num_layers=2_2024-11-18_14-30-24')\n",
      "- tune_model_44781_00015: FileNotFoundError('Could not fetch metrics for tune_model_44781_00015: both result.json and progress.csv were not found at C:/Users/dilek/Desktop/Advanced_AI_Applications_WS24-25_MADS_HSRW/notebooks/4_tuning_networks/models/ray/tune_model_2024-11-18_14-30-24/tune_model_44781_00015_15_hidden_size=35,num_layers=3_2024-11-18_14-30-24')\n",
      "- tune_model_44781_00017: FileNotFoundError('Could not fetch metrics for tune_model_44781_00017: both result.json and progress.csv were not found at C:/Users/dilek/Desktop/Advanced_AI_Applications_WS24-25_MADS_HSRW/notebooks/4_tuning_networks/models/ray/tune_model_2024-11-18_14-30-24/tune_model_44781_00017_17_hidden_size=383,num_layers=5_2024-11-18_14-30-25')\n"
     ]
    }
   ],
   "source": [
    "from ray.tune import ExperimentAnalysis\n",
    "import ray\n",
    "ray.init(ignore_reinit_error=True)\n",
    "\n",
    "\n",
    "analysis = ExperimentAnalysis(latest)\n"
   ]
  },
  {
   "attachments": {},
   "cell_type": "markdown",
   "metadata": {},
   "source": [
    "So, we find some info:"
   ]
  },
  {
   "cell_type": "code",
   "execution_count": 4,
   "metadata": {},
   "outputs": [
    {
     "data": {
      "text/plain": [
       "Index([], dtype='object')"
      ]
     },
     "execution_count": 4,
     "metadata": {},
     "output_type": "execute_result"
    }
   ],
   "source": [
    "analysis.results_df.columns\n"
   ]
  },
  {
   "attachments": {},
   "cell_type": "markdown",
   "metadata": {},
   "source": [
    "Let's focus on the parameters we wanted to tune."
   ]
  },
  {
   "cell_type": "code",
   "execution_count": null,
   "metadata": {},
   "outputs": [],
   "source": [
    "import plotly.express as px\n",
    "\n",
    "plot = analysis.results_df\n",
    "select = [\"Accuracy\", \"config/hidden_size\", \"config/dropout\", \"config/num_layers\"]\n",
    "p = plot[select].reset_index().dropna()\n"
   ]
  },
  {
   "attachments": {},
   "cell_type": "markdown",
   "metadata": {},
   "source": [
    "Let's sort by accuracy"
   ]
  },
  {
   "cell_type": "code",
   "execution_count": null,
   "metadata": {},
   "outputs": [],
   "source": [
    "p.sort_values(\"Accuracy\", inplace=True)"
   ]
  },
  {
   "attachments": {},
   "cell_type": "markdown",
   "metadata": {},
   "source": [
    "Make a parallel plot"
   ]
  },
  {
   "cell_type": "code",
   "execution_count": null,
   "metadata": {},
   "outputs": [],
   "source": [
    "px.parallel_coordinates(p, color=\"Accuracy\")\n"
   ]
  },
  {
   "cell_type": "code",
   "execution_count": null,
   "metadata": {},
   "outputs": [],
   "source": [
    "import seaborn as sns\n",
    "\n",
    "sns.scatterplot(data=p, x=\"config/hidden_size\", y=\"config/num_layers\", hue=\"Accuracy\", palette=\"coolwarm\")"
   ]
  },
  {
   "cell_type": "code",
   "execution_count": null,
   "metadata": {},
   "outputs": [],
   "source": [
    "import matplotlib.pyplot as plt\n",
    "cmap = sns.cubehelix_palette(as_cmap=True)\n",
    "sns.scatterplot(data=p, x=\"config/hidden_size\", y=\"config/num_layers\", hue=\"Accuracy\", palette=\"coolwarm\")\n",
    "sns.kdeplot(data=p, x=\"config/hidden_size\", y=\"config/num_layers\", cmap=cmap)\n",
    "plt.legend(loc='center left', bbox_to_anchor=(1, 0.5), ncol=1)"
   ]
  },
  {
   "attachments": {},
   "cell_type": "markdown",
   "metadata": {},
   "source": [
    "Get the best trial"
   ]
  },
  {
   "cell_type": "code",
   "execution_count": null,
   "metadata": {},
   "outputs": [],
   "source": [
    "analysis.get_best_trial(metric=\"test_loss\", mode=\"min\")\n"
   ]
  },
  {
   "attachments": {},
   "cell_type": "markdown",
   "metadata": {},
   "source": [
    "The top ten"
   ]
  },
  {
   "cell_type": "code",
   "execution_count": null,
   "metadata": {},
   "outputs": [],
   "source": [
    "p[-10:]\n"
   ]
  },
  {
   "attachments": {},
   "cell_type": "markdown",
   "metadata": {},
   "source": [
    "Or the best config"
   ]
  },
  {
   "cell_type": "code",
   "execution_count": null,
   "metadata": {},
   "outputs": [],
   "source": [
    "analysis.get_best_config(metric=\"Accuracy\", mode=\"max\")\n"
   ]
  }
 ],
 "metadata": {
  "kernelspec": {
   "display_name": "Python 3 (ipykernel)",
   "language": "python",
   "name": "python3"
  },
  "language_info": {
   "codemirror_mode": {
    "name": "ipython",
    "version": 3
   },
   "file_extension": ".py",
   "mimetype": "text/x-python",
   "name": "python",
   "nbconvert_exporter": "python",
   "pygments_lexer": "ipython3",
   "version": "3.11.9"
  },
  "vscode": {
   "interpreter": {
    "hash": "826f7c35c7cb2374ed015b71f995b28d51afc038e74920eb490e51986fe41e8c"
   }
  }
 },
 "nbformat": 4,
 "nbformat_minor": 4
}
