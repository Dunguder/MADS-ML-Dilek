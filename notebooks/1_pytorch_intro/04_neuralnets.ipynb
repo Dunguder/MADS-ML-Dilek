{
 "cells": [
  {
   "attachments": {},
   "cell_type": "markdown",
   "metadata": {},
   "source": [
    "# Linear and Non Linear models"
   ]
  },
  {
   "cell_type": "code",
   "execution_count": 1,
   "metadata": {},
   "outputs": [],
   "source": [
    "import torch\n",
    "import seaborn as sns"
   ]
  },
  {
   "attachments": {},
   "cell_type": "markdown",
   "metadata": {},
   "source": [
    "## 1 Linear models\n",
    "One of the simplest models is the linear model. The basic shape of the formula is:\n",
    "\n",
    "$$\n",
    "y = wx + b\n",
    "$$\n",
    "Here, $x$ is a variable, $w$ and $b$ are constants that determine the slope and intercept of the line.\n",
    "\n",
    "We can scale this formula for multiple variables, like this:\n",
    "$$\n",
    "y = w_1 x_1 + w_2 x_2 + \\dots + w_n x_n + b\n",
    "$$\n",
    "\n",
    "Because it is easier to do this calculation as a dotproduct, we will typically use matrices.\n",
    "\n",
    "So, let us have $n$ observations of $m$ features, and we will represent that in a matrix $X$ with dimensions $(n,m)$. We will generate random observations:"
   ]
  },
  {
   "cell_type": "code",
   "execution_count": 2,
   "metadata": {},
   "outputs": [
    {
     "data": {
      "text/plain": [
       "torch.Size([100, 3])"
      ]
     },
     "execution_count": 2,
     "metadata": {},
     "output_type": "execute_result"
    }
   ],
   "source": [
    "n = 100\n",
    "m = 3\n",
    "X = torch.rand(n, m)\n",
    "X.shape"
   ]
  },
  {
   "attachments": {},
   "cell_type": "markdown",
   "metadata": {},
   "source": [
    "This matrix $X$ is our data. Now we want to have $m$ weights, and we want to sum that up untill we have a single number, so our weight $W$ will have dimensions $(m, 1)$. To get matrix multiplication to work, we need the last dimension of $X$ and the first dimension of $W$ to match. So because $X$ has 3 features (last dimension of $X$)$ our $W$ needs to have 3 numbers as its first dimension for `jnp.dot(X, W)` to work."
   ]
  },
  {
   "cell_type": "code",
   "execution_count": 3,
   "metadata": {},
   "outputs": [
    {
     "data": {
      "text/plain": [
       "(tensor([[-0.0504],\n",
       "         [ 0.1168],\n",
       "         [ 0.2109]]),\n",
       " tensor([0.0565]))"
      ]
     },
     "execution_count": 3,
     "metadata": {},
     "output_type": "execute_result"
    }
   ],
   "source": [
    "W = torch.normal(0., 0.1, (m, 1))\n",
    "b = torch.normal(0, 0.1, (1,))\n",
    "W, b"
   ]
  },
  {
   "cell_type": "code",
   "execution_count": 4,
   "metadata": {},
   "outputs": [
    {
     "data": {
      "text/plain": [
       "(torch.Size([3, 1]), torch.Size([1]))"
      ]
     },
     "execution_count": 4,
     "metadata": {},
     "output_type": "execute_result"
    }
   ],
   "source": [
    "W.shape, b.shape"
   ]
  },
  {
   "attachments": {},
   "cell_type": "markdown",
   "metadata": {},
   "source": [
    "Instead of using a forloop to calculate this linear formula $n$ times, we will use a dotproduct. This will calcute \n",
    "\n",
    "$$ \n",
    "y = w_1 x_1 + w_2 x_2 + w_3 x_3 + b\n",
    "$$\n",
    "\n",
    "for all $n$ observations."
   ]
  },
  {
   "cell_type": "code",
   "execution_count": 5,
   "metadata": {},
   "outputs": [
    {
     "data": {
      "text/plain": [
       "torch.Size([100, 1])"
      ]
     },
     "execution_count": 5,
     "metadata": {},
     "output_type": "execute_result"
    }
   ],
   "source": [
    "yhat = torch.matmul(X, W) + b\n",
    "yhat.shape"
   ]
  },
  {
   "attachments": {},
   "cell_type": "markdown",
   "metadata": {},
   "source": [
    "All we have to do is to learn the right weights, and we have a linear model. \n",
    "We could easily generate a 2 dimensional output instead of a 1 dimensional output by increasing the dimension of $W$"
   ]
  },
  {
   "cell_type": "code",
   "execution_count": 6,
   "metadata": {},
   "outputs": [
    {
     "data": {
      "text/plain": [
       "torch.Size([100, 2])"
      ]
     },
     "execution_count": 6,
     "metadata": {},
     "output_type": "execute_result"
    }
   ],
   "source": [
    "W = torch.normal(0., 0.1, (m, 2))\n",
    "yhat = torch.matmul(X, W)\n",
    "yhat.shape"
   ]
  },
  {
   "attachments": {},
   "cell_type": "markdown",
   "metadata": {},
   "source": [
    "## 2 Non linear models\n",
    "However, the simplicity of linear models is both their strength and weakness:\n",
    "- The simplicity protects against overfitting\n",
    "- The simplicity will underfit on non-linear datasets\n",
    "\n",
    "While a lot of things can be approached as a linear model, there are often more complex and non-linear relations in datasets. A naive idea could be to chain multiple linear models together, like this:\n",
    "\n",
    "$$\n",
    "y = f_2(f_1(x))\n",
    "$$\n",
    "\n",
    "which is equal to:\n",
    "\n",
    "$$\n",
    "y = W_2 (W_1 X + b_1) + b_2\n",
    "$$\n",
    "\n",
    "The idea is simply to feed the output of one model to the next. However, the problem here will be that you will end up with something that is equal to a single linear model:\n",
    "\n",
    "\\begin{align}\n",
    "y &= W_2 W_1 X + W_2 b_1 + b_2\\\\\n",
    "y &= W_3 X + b_3\\\\\n",
    "\\end{align}\n",
    "\n",
    "If you simplify $W_2 W_1$ to $W_3$ and $W_2 b_1 + b_2$ to $b_3$. \n",
    "\n",
    "## 3 Activation functions\n",
    "However, what will work for chaining is to add an activation function. There are a lot of functions that will work as an activation function; the main requirement is that they are non-linear."
   ]
  },
  {
   "cell_type": "code",
   "execution_count": 7,
   "metadata": {},
   "outputs": [],
   "source": [
    "def sigmoid(x: torch.Tensor) -> torch.Tensor:\n",
    "    return 1 / (1 + torch.exp(-x))"
   ]
  },
  {
   "cell_type": "code",
   "execution_count": 8,
   "metadata": {},
   "outputs": [
    {
     "data": {
      "text/plain": [
       "<Axes: xlabel='None', ylabel='None'>"
      ]
     },
     "execution_count": 8,
     "metadata": {},
     "output_type": "execute_result"
    },
    {
     "data": {
      "image/png": "[encoded data removed]",
      "text/plain": [
       "<Figure size 640x480 with 1 Axes>"
      ]
     },
     "metadata": {},
     "output_type": "display_data"
    }
   ],
   "source": [
    "k = 100\n",
    "x = torch.linspace(-5,5, k)\n",
    "sns.lineplot(x=x, y=sigmoid(x))"
   ]
  },
  {
   "attachments": {},
   "cell_type": "markdown",
   "metadata": {},
   "source": [
    "Intuitively, you can understand an activation function as a threshold. For example, the sensation of your chair usually lies below the threshold for noticing the sensation. If you increase the input (on the x-axis) you will get above the threshold as output (on the y-axis) at some point.  \n",
    "\n",
    "There are many types of activation functions. The simplest one is the ReLu, which is 0 if $x \\le 0$ and the identity function otherwise."
   ]
  },
  {
   "cell_type": "code",
   "execution_count": 9,
   "metadata": {},
   "outputs": [
    {
     "data": {
      "text/plain": [
       "<Axes: xlabel='None', ylabel='None'>"
      ]
     },
     "execution_count": 9,
     "metadata": {},
     "output_type": "execute_result"
    },
    {
     "data": {
      "image/png": "[encoded data removed]",
      "text/plain": [
       "<Figure size 640x480 with 1 Axes>"
      ]
     },
     "metadata": {},
     "output_type": "display_data"
    }
   ],
   "source": [
    "def relu(x: torch.Tensor) -> torch.Tensor:\n",
    "    return torch.maximum(torch.Tensor([0.]), x)\n",
    "\n",
    "sns.lineplot(x=x, y=relu(x))"
   ]
  },
  {
   "attachments": {},
   "cell_type": "markdown",
   "metadata": {},
   "source": [
    "This gives us all the building blocks needed for a neural network:\n",
    "\n",
    "![neural net](https://res.cloudinary.com/dyd911kmh/image/upload/f_auto,q_auto:best/v1547672259/2_i1cdwq.png)"
   ]
  },
  {
   "attachments": {},
   "cell_type": "markdown",
   "metadata": {},
   "source": [
    "Here, every observation has $n$ features, in this case three.\n",
    "Every input has a corresponding weight $w$, which is summed up with a linear model. \n",
    "The output of the linear model is the fed through an activation function.\n",
    "\n",
    "Let's test that. First we will generate Tuples $(W, b)$. We will make sure the dimensions of output and input will match."
   ]
  },
  {
   "cell_type": "code",
   "execution_count": 82,
   "metadata": {},
   "outputs": [],
   "source": [
    "import torch\n",
    "from typing import Tuple\n",
    "\n",
    "def init_weights(\n",
    "    m: int, n: int, scale: float = 1e-1, seed: int = 42\n",
    ") -> Tuple[torch.Tensor, torch.Tensor]:\n",
    "\n",
    "    torch.manual_seed(seed)\n",
    "\n",
    "    W = scale * torch.normal(0.0, scale, (m, n))\n",
    "    b = scale * torch.normal(0.0, scale, (n,))\n",
    "    return W, b"
   ]
  },
  {
   "cell_type": "code",
   "execution_count": 83,
   "metadata": {},
   "outputs": [
    {
     "data": {
      "text/plain": [
       "(torch.Size([10, 2]), torch.Size([2]))"
      ]
     },
     "execution_count": 83,
     "metadata": {},
     "output_type": "execute_result"
    }
   ],
   "source": [
    "W,b = init_weights(10, 2)\n",
    "W.shape, b.shape"
   ]
  },
  {
   "cell_type": "code",
   "execution_count": 84,
   "metadata": {},
   "outputs": [],
   "source": [
    "from typing import List\n",
    "def torch_network(\n",
    "    sizes: List[int],\n",
    "    scale: float = 1e-1,\n",
    "    seed: int = 42,\n",
    ") -> List[Tuple[torch.Tensor, torch.Tensor]]:\n",
    "\n",
    "    params = [init_weights(m, n, scale, seed) for m, n in zip(sizes[:-1], sizes[1:])]\n",
    "\n",
    "    return params"
   ]
  },
  {
   "cell_type": "code",
   "execution_count": 85,
   "metadata": {},
   "outputs": [
    {
     "name": "stdout",
     "output_type": "stream",
     "text": [
      "torch.Size([2, 8])\n",
      "torch.Size([8, 2])\n",
      "torch.Size([2, 1])\n"
     ]
    }
   ],
   "source": [
    "\n",
    "layersizes = [2, 8, 2, 1]\n",
    "params = torch_network(layersizes, seed=42)\n",
    "for w,_ in params:\n",
    "    print(w.shape)"
   ]
  },
  {
   "cell_type": "code",
   "execution_count": 86,
   "metadata": {},
   "outputs": [
    {
     "name": "stdout",
     "output_type": "stream",
     "text": [
      "tensor([[ 0.0193,  0.0149,  0.0090, -0.0211,  0.0068, -0.0123, -0.0004, -0.0160],\n",
      "        [-0.0075,  0.0165, -0.0039, -0.0140, -0.0073, -0.0056, -0.0077,  0.0076]]) \n",
      "\n",
      "tensor([ 0.0046,  0.0027,  0.0053,  0.0081,  0.0111, -0.0169, -0.0099,  0.0096]) \n",
      "\n",
      "tensor([[ 0.0193,  0.0149],\n",
      "        [ 0.0090, -0.0211],\n",
      "        [ 0.0068, -0.0123],\n",
      "        [-0.0004, -0.0160],\n",
      "        [-0.0075,  0.0165],\n",
      "        [-0.0039, -0.0140],\n",
      "        [-0.0073, -0.0056],\n",
      "        [-0.0077,  0.0076]]) \n",
      "\n",
      "tensor([0.0046, 0.0027]) \n",
      "\n",
      "tensor([[0.0034],\n",
      "        [0.0013]]) \n",
      "\n",
      "tensor([0.0023]) \n",
      "\n"
     ]
    }
   ],
   "source": [
    "for w,b in params:\n",
    "    print(w, \"\\n\")\n",
    "    print(b, \"\\n\")"
   ]
  },
  {
   "attachments": {},
   "cell_type": "markdown",
   "metadata": {},
   "source": [
    "We have three matrices. The first receives 2 features as input, 8 as output with dimensions $(2,8)$, the second will receive these 8 features as input, 2 as output and thus has $(8,2)$ dimensions, and the final layer transforms 2 dimensions into 1.\n",
    "\n",
    "This would similar to $f_1(f_2(f_3(x)))$, so chaining 3 models. However, because chaining linear models adds nothing, this could be reduced to $f(x)$ where $f$ is a linear model.\n",
    "\n",
    "Let's visualize this. First, I will build a 2D grid on the domain $[0,1]$ with a granularity of 100, so I will have $100*100$ coordinates."
   ]
  },
  {
   "cell_type": "code",
   "execution_count": 87,
   "metadata": {},
   "outputs": [],
   "source": [
    "import numpy as np\n",
    "def build_grid(k: int) -> Tuple[np.ndarray, np.ndarray, np.ndarray]:\n",
    "    \"\"\"creates a grid on [0,1] domain\n",
    "    with a granularity k\n",
    "\n",
    "    Args:\n",
    "        k (int): granularity\n",
    "\n",
    "    Returns:\n",
    "        np.ndarray: 2D coordinate grid on [0,1]\n",
    "    \"\"\"\n",
    "    x = np.linspace(0, 1, k)\n",
    "    y = np.linspace(0, 1, k)\n",
    "    xv, yv = np.meshgrid(x, y)\n",
    "    grid = np.c_[xv.ravel(), yv.ravel()]\n",
    "    return grid, x, y"
   ]
  },
  {
   "cell_type": "code",
   "execution_count": 88,
   "metadata": {},
   "outputs": [],
   "source": [
    "k = 100\n",
    "grid, x, y = build_grid(k=k)"
   ]
  },
  {
   "cell_type": "code",
   "execution_count": 89,
   "metadata": {},
   "outputs": [
    {
     "data": {
      "text/plain": [
       "array([[0.        , 0.        ],\n",
       "       [0.01010101, 0.        ],\n",
       "       [0.02020202, 0.        ]])"
      ]
     },
     "execution_count": 89,
     "metadata": {},
     "output_type": "execute_result"
    }
   ],
   "source": [
    "grid[:3] # grid has coordinates"
   ]
  },
  {
   "cell_type": "code",
   "execution_count": 90,
   "metadata": {},
   "outputs": [
    {
     "data": {
      "text/plain": [
       "array([[0.97979798, 1.        ],\n",
       "       [0.98989899, 1.        ],\n",
       "       [1.        , 1.        ]])"
      ]
     },
     "execution_count": 90,
     "metadata": {},
     "output_type": "execute_result"
    }
   ],
   "source": [
    "grid[-3:] # from (0,0) up to (1,1)"
   ]
  },
  {
   "cell_type": "code",
   "execution_count": 91,
   "metadata": {},
   "outputs": [
    {
     "data": {
      "text/plain": [
       "((100,), array([0.        , 0.01010101, 0.02020202, 0.03030303, 0.04040404]))"
      ]
     },
     "execution_count": 91,
     "metadata": {},
     "output_type": "execute_result"
    }
   ],
   "source": [
    "x.shape, x[:5] # x and y contain k values on the range [0,1]"
   ]
  },
  {
   "cell_type": "code",
   "execution_count": 92,
   "metadata": {},
   "outputs": [
    {
     "data": {
      "text/plain": [
       "torch.float32"
      ]
     },
     "execution_count": 92,
     "metadata": {},
     "output_type": "execute_result"
    }
   ],
   "source": [
    "grid = torch.from_numpy(grid).type(torch.float32)\n",
    "W, b = params[0]\n",
    "W.dtype"
   ]
  },
  {
   "cell_type": "code",
   "execution_count": 93,
   "metadata": {},
   "outputs": [],
   "source": [
    "from loguru import logger\n",
    "def predict(params, activations):\n",
    "    for w, b in params:\n",
    "        outputs = torch.matmul(activations, w) + b\n",
    "        logger.info(f\"Shape: {outputs.shape}\")\n",
    "        activations = outputs\n",
    "\n",
    "    return outputs"
   ]
  },
  {
   "cell_type": "code",
   "execution_count": 94,
   "metadata": {},
   "outputs": [
    {
     "name": "stderr",
     "output_type": "stream",
     "text": [
      "\u001b[32m2024-11-16 14:29:00.945\u001b[0m | \u001b[1mINFO    \u001b[0m | \u001b[36m__main__\u001b[0m:\u001b[36mpredict\u001b[0m:\u001b[36m5\u001b[0m - \u001b[1mShape: torch.Size([10000, 8])\u001b[0m\n",
      "\u001b[32m2024-11-16 14:29:00.946\u001b[0m | \u001b[1mINFO    \u001b[0m | \u001b[36m__main__\u001b[0m:\u001b[36mpredict\u001b[0m:\u001b[36m5\u001b[0m - \u001b[1mShape: torch.Size([10000, 2])\u001b[0m\n",
      "\u001b[32m2024-11-16 14:29:00.947\u001b[0m | \u001b[1mINFO    \u001b[0m | \u001b[36m__main__\u001b[0m:\u001b[36mpredict\u001b[0m:\u001b[36m5\u001b[0m - \u001b[1mShape: torch.Size([10000, 1])\u001b[0m\n"
     ]
    },
    {
     "data": {
      "text/html": [
       "<iframe\n",
       "    scrolling=\"no\"\n",
       "    width=\"100%\"\n",
       "    height=\"545px\"\n",
       "    src=\"iframe_figures/figure_94.html\"\n",
       "    frameborder=\"0\"\n",
       "    allowfullscreen\n",
       "></iframe>\n"
      ]
     },
     "metadata": {},
     "output_type": "display_data"
    }
   ],
   "source": [
    "import plotly.io as pio\n",
    "pio.renderers.default = \"iframe\"\n",
    "\n",
    "out = predict(params, grid)\n",
    "z = out.reshape(k,k)\n",
    "\n",
    "import plotly.graph_objects as go\n",
    "fig = go.Figure(data=go.Surface(x=x, y=y, z=z))\n",
    "fig.show()\n"
   ]
  },
  {
   "attachments": {},
   "cell_type": "markdown",
   "metadata": {},
   "source": [
    "Exactly what we expected. We have a 2D hyperplane. If we are doing classification, this hyperplane splits the 3D datapoints into two classes, and we could classify the group of point that fall above or below the hyperplane as belonging to one or another class.\n",
    "\n",
    "In the case of regression, we would want the point to fall on the hyperplane, as much as possible.\n",
    "\n",
    "Even though we could scale this to more dimensions easily, the limitations of a linear model should be clear: a lot of data simply is not linear.\n",
    "\n",
    "To avoid this, we can add tricks to our model:\n",
    "\n",
    "- a simple approach would be to do basis expansion. E.g. points $X = (x_1, x_2)$ might not be linear serparable, but $\\phi(X) = (x_1, x_2, x_1 x_2, x_1^2, x_2^2)$ is a basis expansion that might be linear.\n",
    "- because basis expansion runs into scaling problems pretty fast (it scales roughly $O(n^2)$) we could use the kernel trick, like a Support Vector Machine does. \n",
    "- We could use a decision tree or randomm model, which is a way to chain linear models that result in non linear models) we could use the kernel trick, like a Support Vector Machine does. \n",
    "- We could use a decision tree or randomm model, which is a way to chain linear models that result in non linear models.\n",
    "\n",
    "These \"tricks\" cover most of the classic models you can find in the scikit-learn library. While they have advantages, there will still be cases where these models are not commplex enough. \n",
    "\n",
    "# Neural Networks\n",
    "A neural network chains linear models with an activation function. The only thing that is different in the next model is that after every linear transformation we will apply the relu function.\n",
    "\n",
    "![full network](../../reports/figures/nnet.png)\n",
    "\n",
    "This is what a fully connected neural network would look like.\n",
    "We can recognize the single units with the multiple inputs.\n",
    "\n",
    "Rebuild the parameters a few times and see how the model changes."
   ]
  },
  {
   "cell_type": "code",
   "execution_count": 95,
   "metadata": {},
   "outputs": [],
   "source": [
    "layersizes = [2, 8, 16, 4, 1]\n",
    "random_seed = 5\n",
    "params = torch_network(layersizes, scale=1e-1, seed=random_seed)"
   ]
  },
  {
   "cell_type": "code",
   "execution_count": 96,
   "metadata": {},
   "outputs": [
    {
     "data": {
      "text/plain": [
       "torch.Size([16, 4])"
      ]
     },
     "execution_count": 96,
     "metadata": {},
     "output_type": "execute_result"
    }
   ],
   "source": [
    "params[2][0].shape"
   ]
  },
  {
   "cell_type": "code",
   "execution_count": 97,
   "metadata": {},
   "outputs": [
    {
     "data": {
      "text/plain": [
       "torch.Size([4, 1])"
      ]
     },
     "execution_count": 97,
     "metadata": {},
     "output_type": "execute_result"
    }
   ],
   "source": [
    "params[3][0].shape"
   ]
  },
  {
   "cell_type": "code",
   "execution_count": 98,
   "metadata": {},
   "outputs": [],
   "source": [
    "def nn_predict(params, activations):\n",
    "    for w, b in params[:-1]:\n",
    "        outputs = torch.matmul(activations, w) + b\n",
    "        logger.info(f\"Shape: {outputs.shape}\")\n",
    "        activations = relu(outputs)\n",
    "\n",
    "    final_w, final_b = params[-1]\n",
    "    logits = torch.matmul(activations, final_w) + final_b\n",
    "    logger.info(f\"Shape: {logits.shape}\")\n",
    "    return logits"
   ]
  },
  {
   "cell_type": "code",
   "execution_count": 99,
   "metadata": {},
   "outputs": [
    {
     "name": "stderr",
     "output_type": "stream",
     "text": [
      "\u001b[32m2024-11-16 14:29:14.793\u001b[0m | \u001b[1mINFO    \u001b[0m | \u001b[36m__main__\u001b[0m:\u001b[36mnn_predict\u001b[0m:\u001b[36m4\u001b[0m - \u001b[1mShape: torch.Size([10000, 8])\u001b[0m\n",
      "\u001b[32m2024-11-16 14:29:14.795\u001b[0m | \u001b[1mINFO    \u001b[0m | \u001b[36m__main__\u001b[0m:\u001b[36mnn_predict\u001b[0m:\u001b[36m4\u001b[0m - \u001b[1mShape: torch.Size([10000, 16])\u001b[0m\n",
      "\u001b[32m2024-11-16 14:29:14.796\u001b[0m | \u001b[1mINFO    \u001b[0m | \u001b[36m__main__\u001b[0m:\u001b[36mnn_predict\u001b[0m:\u001b[36m4\u001b[0m - \u001b[1mShape: torch.Size([10000, 4])\u001b[0m\n",
      "\u001b[32m2024-11-16 14:29:14.797\u001b[0m | \u001b[1mINFO    \u001b[0m | \u001b[36m__main__\u001b[0m:\u001b[36mnn_predict\u001b[0m:\u001b[36m9\u001b[0m - \u001b[1mShape: torch.Size([10000, 1])\u001b[0m\n"
     ]
    },
    {
     "data": {
      "text/html": [
       "<iframe\n",
       "    scrolling=\"no\"\n",
       "    width=\"100%\"\n",
       "    height=\"545px\"\n",
       "    src=\"iframe_figures/figure_99.html\"\n",
       "    frameborder=\"0\"\n",
       "    allowfullscreen\n",
       "></iframe>\n"
      ]
     },
     "metadata": {},
     "output_type": "display_data"
    }
   ],
   "source": [
    "out = nn_predict(params, grid)\n",
    "z = out.reshape(k,k)\n",
    "fig = go.Figure(data=go.Surface(x=x, y=y, z=z))\n",
    "fig.show()"
   ]
  },
  {
   "attachments": {},
   "cell_type": "markdown",
   "metadata": {},
   "source": [
    "Et voila! We have a non-linear model. We will need to add a learning process, so that the model can learn to adjust its weights in order to fit the training data, but this is the basics of a neural network.\n",
    "\n",
    "Change the random_seed to see the impact of different starting values.\n",
    "Also, experiment with the sizes and shapes of the weights.\n",
    "\n",
    "\n",
    "- **TAKE AWAY 1**: A neural network is a combination of linear models and activation functions\n",
    "- **TAKE AWAY 2**: Neural networks are in theory *universal function approximators*. So never NEVER never say that a combination of Linear layers + activation functions is a \"simple model\". They can approximate EVERY function, you just need to make the network deep & wide enough and train it for long enough!\n",
    "- **TAKE AWAY 3**: However, you CAN make neural networks very simple. The simplest case is a single linear layer with no activation, which is just a linear model. If you reduce the amount of units, the model will also be simpler."
   ]
  },
  {
   "cell_type": "code",
   "execution_count": 100,
   "metadata": {},
   "outputs": [
    {
     "data": {
      "text/plain": [
       "[(tensor([[-0.0107, -0.0072,  0.0109, -0.0157,  0.0145,  0.0062, -0.0077, -0.0247],\n",
       "          [ 0.0100,  0.0045, -0.0035, -0.0072,  0.0171,  0.0223, -0.0007,  0.0023]]),\n",
       "  tensor([ 0.0075,  0.0109, -0.0077, -0.0029, -0.0084, -0.0042,  0.0002, -0.0015])),\n",
       " (tensor([[-1.0674e-02, -7.1725e-03,  1.0897e-02, -1.5747e-02,  1.4460e-02,\n",
       "            6.1913e-03, -7.7369e-03, -2.4656e-02,  9.9682e-03,  4.5243e-03,\n",
       "           -3.4636e-03, -7.2449e-03,  1.7059e-02,  2.2282e-02, -6.7745e-04,\n",
       "            2.3307e-03],\n",
       "          [-1.1433e-02,  8.2886e-03,  9.5342e-03,  2.9477e-03,  1.5159e-02,\n",
       "           -1.5261e-02, -1.5409e-02, -7.9161e-03,  3.9714e-03,  4.0579e-03,\n",
       "           -5.2740e-03, -1.3820e-02, -2.7446e-03, -1.0569e-02, -1.5705e-02,\n",
       "           -1.4153e-02],\n",
       "          [ 1.9437e-02,  9.3871e-03,  2.6475e-03, -8.0079e-03,  3.7546e-03,\n",
       "           -1.6997e-03,  4.4885e-03,  6.4727e-03, -7.9577e-03,  1.5887e-02,\n",
       "           -1.5875e-02, -6.3452e-03,  6.5193e-03, -1.3103e-02,  1.8011e-02,\n",
       "           -9.5620e-03],\n",
       "          [-1.3809e-02, -1.4772e-03,  1.5924e-02, -4.7859e-03, -3.3142e-03,\n",
       "           -1.1735e-02, -7.3653e-03,  5.3201e-03,  1.0343e-02,  2.9722e-03,\n",
       "            5.4474e-03, -1.2267e-02,  1.6075e-02, -1.1517e-02,  7.5555e-03,\n",
       "           -6.6660e-03],\n",
       "          [ 1.2391e-02,  2.6124e-03,  8.6087e-03, -1.0079e-02,  2.5778e-03,\n",
       "            2.0466e-02, -6.8114e-03,  9.1152e-03,  5.4409e-04, -7.5527e-04,\n",
       "            7.9994e-03, -3.0395e-03, -6.9004e-03,  1.0410e-02, -1.1499e-02,\n",
       "           -1.2722e-03],\n",
       "          [ 3.7940e-03, -8.4965e-03,  3.0597e-03,  8.5018e-04,  9.1010e-03,\n",
       "           -1.9523e-02,  9.4021e-03,  4.6492e-03, -7.5016e-03, -2.8910e-03,\n",
       "           -7.0793e-04,  6.9064e-05,  2.6173e-03, -6.6115e-03,  7.1492e-03,\n",
       "            2.2199e-03],\n",
       "          [ 6.6584e-03, -3.3141e-03, -3.9862e-03, -2.2297e-03,  1.0358e-02,\n",
       "           -2.6043e-02, -7.4010e-03, -6.7433e-03,  1.8350e-02, -2.7531e-03,\n",
       "           -2.2974e-03,  1.4217e-02, -1.0468e-02,  4.8213e-03,  5.3741e-03,\n",
       "            1.0672e-02],\n",
       "          [ 9.9779e-03,  3.0935e-05, -1.0209e-02, -7.6253e-03,  9.9348e-03,\n",
       "            1.9666e-02, -2.5322e-03, -1.5513e-02,  2.0078e-03, -1.0600e-02,\n",
       "           -9.6488e-03, -1.8274e-02,  6.8478e-03, -1.3504e-02,  8.8738e-03,\n",
       "            2.1499e-03]]),\n",
       "  tensor([ 0.0010,  0.0013, -0.0069, -0.0011, -0.0025,  0.0009,  0.0043,  0.0130,\n",
       "          -0.0187,  0.0023, -0.0184, -0.0072, -0.0004, -0.0073,  0.0021, -0.0163])),\n",
       " (tensor([[-0.0107, -0.0072,  0.0109, -0.0157],\n",
       "          [ 0.0145,  0.0062, -0.0077, -0.0247],\n",
       "          [ 0.0100,  0.0045, -0.0035, -0.0072],\n",
       "          [ 0.0171,  0.0223, -0.0007,  0.0023],\n",
       "          [-0.0114,  0.0083,  0.0095,  0.0029],\n",
       "          [ 0.0152, -0.0153, -0.0154, -0.0079],\n",
       "          [ 0.0040,  0.0041, -0.0053, -0.0138],\n",
       "          [-0.0027, -0.0106, -0.0157, -0.0142],\n",
       "          [ 0.0194,  0.0094,  0.0026, -0.0080],\n",
       "          [ 0.0038, -0.0017,  0.0045,  0.0065],\n",
       "          [-0.0080,  0.0159, -0.0159, -0.0063],\n",
       "          [ 0.0065, -0.0131,  0.0180, -0.0096],\n",
       "          [-0.0138, -0.0015,  0.0159, -0.0048],\n",
       "          [-0.0033, -0.0117, -0.0074,  0.0053],\n",
       "          [ 0.0103,  0.0030,  0.0054, -0.0123],\n",
       "          [ 0.0161, -0.0115,  0.0076, -0.0067]]),\n",
       "  tensor([-0.0080,  0.0291,  0.0131, -0.0094])),\n",
       " (tensor([[ 0.0004],\n",
       "          [ 0.0191],\n",
       "          [-0.0023],\n",
       "          [ 0.0035]]),\n",
       "  tensor([0.0132]))]"
      ]
     },
     "execution_count": 100,
     "metadata": {},
     "output_type": "execute_result"
    }
   ],
   "source": [
    "# changing random seed data\n",
    "layersizes = [2, 8, 16, 4, 1]\n",
    "random_seed = 9\n",
    "params = torch_network(layersizes, scale=1e-1, seed=random_seed)\n",
    "params"
   ]
  },
  {
   "cell_type": "code",
   "execution_count": 101,
   "metadata": {},
   "outputs": [
    {
     "name": "stderr",
     "output_type": "stream",
     "text": [
      "\u001b[32m2024-11-16 14:29:22.222\u001b[0m | \u001b[1mINFO    \u001b[0m | \u001b[36m__main__\u001b[0m:\u001b[36mnn_predict\u001b[0m:\u001b[36m4\u001b[0m - \u001b[1mShape: torch.Size([10000, 8])\u001b[0m\n",
      "\u001b[32m2024-11-16 14:29:22.223\u001b[0m | \u001b[1mINFO    \u001b[0m | \u001b[36m__main__\u001b[0m:\u001b[36mnn_predict\u001b[0m:\u001b[36m4\u001b[0m - \u001b[1mShape: torch.Size([10000, 16])\u001b[0m\n",
      "\u001b[32m2024-11-16 14:29:22.225\u001b[0m | \u001b[1mINFO    \u001b[0m | \u001b[36m__main__\u001b[0m:\u001b[36mnn_predict\u001b[0m:\u001b[36m4\u001b[0m - \u001b[1mShape: torch.Size([10000, 4])\u001b[0m\n",
      "\u001b[32m2024-11-16 14:29:22.226\u001b[0m | \u001b[1mINFO    \u001b[0m | \u001b[36m__main__\u001b[0m:\u001b[36mnn_predict\u001b[0m:\u001b[36m9\u001b[0m - \u001b[1mShape: torch.Size([10000, 1])\u001b[0m\n"
     ]
    },
    {
     "data": {
      "text/html": [
       "<iframe\n",
       "    scrolling=\"no\"\n",
       "    width=\"100%\"\n",
       "    height=\"545px\"\n",
       "    src=\"iframe_figures/figure_101.html\"\n",
       "    frameborder=\"0\"\n",
       "    allowfullscreen\n",
       "></iframe>\n"
      ]
     },
     "metadata": {},
     "output_type": "display_data"
    }
   ],
   "source": [
    "out = nn_predict(params, grid)\n",
    "z = out.reshape(k,k)\n",
    "fig1 = go.Figure(data=go.Surface(x=x, y=y, z=z))\n",
    "fig1.show()"
   ]
  },
  {
   "cell_type": "code",
   "execution_count": 102,
   "metadata": {},
   "outputs": [
    {
     "data": {
      "text/plain": [
       "[(tensor([[ 0.0004,  0.0191, -0.0023,  0.0035,  0.0132,  0.0037],\n",
       "          [ 0.0038,  0.0030,  0.0075,  0.0109, -0.0077, -0.0029]]),\n",
       "  tensor([-0.0084, -0.0042,  0.0002, -0.0015,  0.0134,  0.0123])),\n",
       " (tensor([[-0.0107, -0.0072,  0.0109, -0.0157,  0.0145,  0.0062, -0.0077, -0.0247,\n",
       "            0.0100,  0.0045, -0.0035, -0.0072],\n",
       "          [ 0.0171,  0.0223, -0.0007,  0.0023, -0.0114,  0.0083,  0.0095,  0.0029,\n",
       "            0.0152, -0.0153, -0.0154, -0.0079],\n",
       "          [ 0.0040,  0.0041, -0.0053, -0.0138, -0.0027, -0.0106, -0.0157, -0.0142,\n",
       "            0.0194,  0.0094,  0.0026, -0.0080],\n",
       "          [ 0.0038, -0.0017,  0.0045,  0.0065, -0.0080,  0.0159, -0.0159, -0.0063,\n",
       "            0.0065, -0.0131,  0.0180, -0.0096],\n",
       "          [-0.0138, -0.0015,  0.0159, -0.0048, -0.0033, -0.0117, -0.0074,  0.0053,\n",
       "           -0.0003, -0.0122,  0.0048,  0.0126],\n",
       "          [-0.0117,  0.0029, -0.0148,  0.0196,  0.0011,  0.0217,  0.0015,  0.0003,\n",
       "            0.0139, -0.0027, -0.0002,  0.0194]]),\n",
       "  tensor([-0.0130, -0.0089, -0.0116,  0.0147,  0.0066, -0.0168, -0.0045,  0.0156,\n",
       "          -0.0139, -0.0052,  0.0067, -0.0003])),\n",
       " (tensor([[-0.0107, -0.0072,  0.0109, -0.0157,  0.0145],\n",
       "          [ 0.0062, -0.0077, -0.0247,  0.0100,  0.0045],\n",
       "          [-0.0035, -0.0072,  0.0171,  0.0223, -0.0007],\n",
       "          [ 0.0023, -0.0114,  0.0083,  0.0095,  0.0029],\n",
       "          [ 0.0152, -0.0153, -0.0154, -0.0079,  0.0040],\n",
       "          [ 0.0041, -0.0053, -0.0138, -0.0027, -0.0106],\n",
       "          [-0.0157, -0.0142,  0.0194,  0.0094,  0.0026],\n",
       "          [-0.0080,  0.0038, -0.0017,  0.0045,  0.0065],\n",
       "          [-0.0080,  0.0159, -0.0159, -0.0063,  0.0006],\n",
       "          [ 0.0126, -0.0081, -0.0111,  0.0124,  0.0026],\n",
       "          [ 0.0086, -0.0101,  0.0081, -0.0061, -0.0052],\n",
       "          [ 0.0163,  0.0005, -0.0008,  0.0080, -0.0030]]),\n",
       "  tensor([-0.0084,  0.0024, -0.0072,  0.0067,  0.0015])),\n",
       " (tensor([[ 0.0004],\n",
       "          [ 0.0191],\n",
       "          [-0.0023],\n",
       "          [ 0.0035],\n",
       "          [ 0.0132]]),\n",
       "  tensor([0.0037]))]"
      ]
     },
     "execution_count": 102,
     "metadata": {},
     "output_type": "execute_result"
    }
   ],
   "source": [
    "# changing sizes and shapes of the weights by changing layers\n",
    "layersizes = [2, 6, 12, 5, 1]\n",
    "random_seed = 9\n",
    "params = torch_network(layersizes, scale=1e-1, seed=random_seed)\n",
    "params"
   ]
  },
  {
   "cell_type": "code",
   "execution_count": 103,
   "metadata": {},
   "outputs": [
    {
     "name": "stderr",
     "output_type": "stream",
     "text": [
      "\u001b[32m2024-11-16 14:29:42.816\u001b[0m | \u001b[1mINFO    \u001b[0m | \u001b[36m__main__\u001b[0m:\u001b[36mnn_predict\u001b[0m:\u001b[36m4\u001b[0m - \u001b[1mShape: torch.Size([10000, 6])\u001b[0m\n",
      "\u001b[32m2024-11-16 14:29:42.818\u001b[0m | \u001b[1mINFO    \u001b[0m | \u001b[36m__main__\u001b[0m:\u001b[36mnn_predict\u001b[0m:\u001b[36m4\u001b[0m - \u001b[1mShape: torch.Size([10000, 12])\u001b[0m\n",
      "\u001b[32m2024-11-16 14:29:42.819\u001b[0m | \u001b[1mINFO    \u001b[0m | \u001b[36m__main__\u001b[0m:\u001b[36mnn_predict\u001b[0m:\u001b[36m4\u001b[0m - \u001b[1mShape: torch.Size([10000, 5])\u001b[0m\n",
      "\u001b[32m2024-11-16 14:29:42.820\u001b[0m | \u001b[1mINFO    \u001b[0m | \u001b[36m__main__\u001b[0m:\u001b[36mnn_predict\u001b[0m:\u001b[36m9\u001b[0m - \u001b[1mShape: torch.Size([10000, 1])\u001b[0m\n"
     ]
    },
    {
     "data": {
      "text/html": [
       "<iframe\n",
       "    scrolling=\"no\"\n",
       "    width=\"100%\"\n",
       "    height=\"545px\"\n",
       "    src=\"iframe_figures/figure_103.html\"\n",
       "    frameborder=\"0\"\n",
       "    allowfullscreen\n",
       "></iframe>\n"
      ]
     },
     "metadata": {},
     "output_type": "display_data"
    }
   ],
   "source": [
    "out = nn_predict(params, grid)\n",
    "z = out.reshape(k,k)\n",
    "fig2 = go.Figure(data=go.Surface(x=x, y=y, z=z))\n",
    "fig2.show()"
   ]
  },
  {
   "cell_type": "code",
   "execution_count": 105,
   "metadata": {},
   "outputs": [
    {
     "data": {
      "text/plain": [
       "[(tensor([[ 0.0004,  0.0191, -0.0023,  0.0035,  0.0132,  0.0037],\n",
       "          [ 0.0038,  0.0030,  0.0075,  0.0109, -0.0077, -0.0029]]),\n",
       "  tensor([-0.0084, -0.0042,  0.0002, -0.0015,  0.0134,  0.0123])),\n",
       " (tensor([[-0.0107, -0.0072,  0.0109, -0.0157,  0.0145,  0.0062, -0.0077, -0.0247],\n",
       "          [ 0.0100,  0.0045, -0.0035, -0.0072,  0.0171,  0.0223, -0.0007,  0.0023],\n",
       "          [-0.0114,  0.0083,  0.0095,  0.0029,  0.0152, -0.0153, -0.0154, -0.0079],\n",
       "          [ 0.0040,  0.0041, -0.0053, -0.0138, -0.0027, -0.0106, -0.0157, -0.0142],\n",
       "          [ 0.0194,  0.0094,  0.0026, -0.0080,  0.0038, -0.0017,  0.0045,  0.0065],\n",
       "          [-0.0080,  0.0159, -0.0159, -0.0063,  0.0065, -0.0131,  0.0180, -0.0096]]),\n",
       "  tensor([ 0.0012,  0.0033,  0.0091, -0.0050,  0.0044,  0.0095, -0.0016,  0.0287])),\n",
       " (tensor([[-0.0107, -0.0072],\n",
       "          [ 0.0109, -0.0157],\n",
       "          [ 0.0145,  0.0062],\n",
       "          [-0.0077, -0.0247],\n",
       "          [ 0.0100,  0.0045],\n",
       "          [-0.0035, -0.0072],\n",
       "          [ 0.0171,  0.0223],\n",
       "          [-0.0007,  0.0023]]),\n",
       "  tensor([0.0075, 0.0109])),\n",
       " (tensor([[0.0004],\n",
       "          [0.0191]]),\n",
       "  tensor([-0.0023]))]"
      ]
     },
     "execution_count": 105,
     "metadata": {},
     "output_type": "execute_result"
    }
   ],
   "source": [
    "# changing sizes and shapes of the weights by changing layers\n",
    "layersizes = [2, 6, 8, 2, 1]\n",
    "random_seed = 9\n",
    "params = torch_network(layersizes, scale=1e-1, seed=random_seed)\n",
    "params"
   ]
  },
  {
   "cell_type": "code",
   "execution_count": 106,
   "metadata": {},
   "outputs": [
    {
     "name": "stderr",
     "output_type": "stream",
     "text": [
      "\u001b[32m2024-11-16 14:30:31.263\u001b[0m | \u001b[1mINFO    \u001b[0m | \u001b[36m__main__\u001b[0m:\u001b[36mnn_predict\u001b[0m:\u001b[36m4\u001b[0m - \u001b[1mShape: torch.Size([10000, 6])\u001b[0m\n",
      "\u001b[32m2024-11-16 14:30:31.265\u001b[0m | \u001b[1mINFO    \u001b[0m | \u001b[36m__main__\u001b[0m:\u001b[36mnn_predict\u001b[0m:\u001b[36m4\u001b[0m - \u001b[1mShape: torch.Size([10000, 8])\u001b[0m\n",
      "\u001b[32m2024-11-16 14:30:31.266\u001b[0m | \u001b[1mINFO    \u001b[0m | \u001b[36m__main__\u001b[0m:\u001b[36mnn_predict\u001b[0m:\u001b[36m4\u001b[0m - \u001b[1mShape: torch.Size([10000, 2])\u001b[0m\n",
      "\u001b[32m2024-11-16 14:30:31.267\u001b[0m | \u001b[1mINFO    \u001b[0m | \u001b[36m__main__\u001b[0m:\u001b[36mnn_predict\u001b[0m:\u001b[36m9\u001b[0m - \u001b[1mShape: torch.Size([10000, 1])\u001b[0m\n"
     ]
    },
    {
     "data": {
      "text/html": [
       "<iframe\n",
       "    scrolling=\"no\"\n",
       "    width=\"100%\"\n",
       "    height=\"545px\"\n",
       "    src=\"iframe_figures/figure_106.html\"\n",
       "    frameborder=\"0\"\n",
       "    allowfullscreen\n",
       "></iframe>\n"
      ]
     },
     "metadata": {},
     "output_type": "display_data"
    }
   ],
   "source": [
    "out = nn_predict(params, grid)\n",
    "z = out.reshape(k,k)\n",
    "fig3 = go.Figure(data=go.Surface(x=x, y=y, z=z))\n",
    "fig3.show()"
   ]
  },
  {
   "cell_type": "code",
   "execution_count": null,
   "metadata": {},
   "outputs": [],
   "source": []
  }
 ],
 "metadata": {
  "kernelspec": {
   "display_name": "Python 3 (ipykernel)",
   "language": "python",
   "name": "python3"
  },
  "language_info": {
   "codemirror_mode": {
    "name": "ipython",
    "version": 3
   },
   "file_extension": ".py",
   "mimetype": "text/x-python",
   "name": "python",
   "nbconvert_exporter": "python",
   "pygments_lexer": "ipython3",
   "version": "3.11.9"
  },
  "vscode": {
   "interpreter": {
    "hash": "45c41bdaf5373703b03bba2d9bd89c97dc8ee5add9f1112e039ff04603b8e2ee"
   }
  }
 },
 "nbformat": 4,
 "nbformat_minor": 4
}
