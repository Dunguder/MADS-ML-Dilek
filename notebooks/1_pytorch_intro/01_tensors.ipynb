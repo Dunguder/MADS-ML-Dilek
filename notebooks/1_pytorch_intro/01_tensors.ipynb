{
 "cells": [
  {
   "attachments": {},
   "cell_type": "markdown",
   "metadata": {},
   "source": [
    "# 1 Intro into torch"
   ]
  },
  {
   "attachments": {},
   "cell_type": "markdown",
   "metadata": {},
   "source": [
    "## 1.1 Tensors"
   ]
  },
  {
   "cell_type": "code",
   "execution_count": 1,
   "metadata": {},
   "outputs": [],
   "source": [
    "import torch\n",
    "import numpy as np"
   ]
  },
  {
   "attachments": {},
   "cell_type": "markdown",
   "metadata": {},
   "source": [
    "Let's start with the basics. We create some dummy dataset: two observations $n$, every observation has three features $m$. We organize that as a dataset with dimensions $(n,m)$, so that is $(2,3)$"
   ]
  },
  {
   "cell_type": "code",
   "execution_count": 2,
   "metadata": {},
   "outputs": [],
   "source": [
    "data = [\n",
    "    [1, 2, 3],\n",
    "    [10, 20, 30]\n",
    "]"
   ]
  },
  {
   "attachments": {},
   "cell_type": "markdown",
   "metadata": {},
   "source": [
    "Our datatype here is `List[int]`, and PyTorch uses a `torch.Tensor` datatype."
   ]
  },
  {
   "cell_type": "code",
   "execution_count": 3,
   "metadata": {},
   "outputs": [
    {
     "data": {
      "text/plain": [
       "torch.Tensor"
      ]
     },
     "execution_count": 3,
     "metadata": {},
     "output_type": "execute_result"
    }
   ],
   "source": [
    "X = torch.tensor(data)\n",
    "type(X)"
   ]
  },
  {
   "attachments": {},
   "cell_type": "markdown",
   "metadata": {},
   "source": [
    "We can retrieve the shape"
   ]
  },
  {
   "cell_type": "code",
   "execution_count": 4,
   "metadata": {},
   "outputs": [
    {
     "data": {
      "text/plain": [
       "torch.Size([2, 3])"
      ]
     },
     "execution_count": 4,
     "metadata": {},
     "output_type": "execute_result"
    }
   ],
   "source": [
    "X.shape"
   ]
  },
  {
   "attachments": {},
   "cell_type": "markdown",
   "metadata": {},
   "source": [
    "And the type of the data inside the tensor:"
   ]
  },
  {
   "cell_type": "code",
   "execution_count": 5,
   "metadata": {},
   "outputs": [
    {
     "data": {
      "text/plain": [
       "torch.int64"
      ]
     },
     "execution_count": 5,
     "metadata": {},
     "output_type": "execute_result"
    }
   ],
   "source": [
    "X.dtype"
   ]
  },
  {
   "attachments": {},
   "cell_type": "markdown",
   "metadata": {},
   "source": [
    "Or the amount of observations:"
   ]
  },
  {
   "cell_type": "code",
   "execution_count": 6,
   "metadata": {},
   "outputs": [
    {
     "data": {
      "text/plain": [
       "2"
      ]
     },
     "execution_count": 6,
     "metadata": {},
     "output_type": "execute_result"
    }
   ],
   "source": [
    "len(X)"
   ]
  },
  {
   "attachments": {},
   "cell_type": "markdown",
   "metadata": {},
   "source": [
    "We can also start with a `numpy.array`"
   ]
  },
  {
   "cell_type": "code",
   "execution_count": 7,
   "metadata": {},
   "outputs": [],
   "source": [
    "npdata = np.array(\n",
    "    data,\n",
    "    dtype = np.float32\n",
    ")"
   ]
  },
  {
   "attachments": {},
   "cell_type": "markdown",
   "metadata": {},
   "source": [
    "Note we changed the dataformat to `np.float32`"
   ]
  },
  {
   "cell_type": "code",
   "execution_count": 8,
   "metadata": {},
   "outputs": [
    {
     "data": {
      "text/plain": [
       "tensor([[ 1.,  2.,  3.],\n",
       "        [10., 20., 30.]])"
      ]
     },
     "execution_count": 8,
     "metadata": {},
     "output_type": "execute_result"
    }
   ],
   "source": [
    "X2 = torch.from_numpy(npdata)\n",
    "X2"
   ]
  },
  {
   "cell_type": "code",
   "execution_count": 9,
   "metadata": {},
   "outputs": [
    {
     "data": {
      "text/plain": [
       "torch.float32"
      ]
     },
     "execution_count": 9,
     "metadata": {},
     "output_type": "execute_result"
    }
   ],
   "source": [
    "X2.dtype"
   ]
  },
  {
   "attachments": {},
   "cell_type": "markdown",
   "metadata": {},
   "source": [
    "## 1.2 Usefull functions for creating tensors"
   ]
  },
  {
   "attachments": {},
   "cell_type": "markdown",
   "metadata": {},
   "source": [
    "We can easily create a stand in tensor, with the same shape as our data:"
   ]
  },
  {
   "cell_type": "code",
   "execution_count": 10,
   "metadata": {},
   "outputs": [
    {
     "data": {
      "text/plain": [
       "tensor([[1., 1., 1.],\n",
       "        [1., 1., 1.]])"
      ]
     },
     "execution_count": 10,
     "metadata": {},
     "output_type": "execute_result"
    }
   ],
   "source": [
    "ones = torch.ones_like(X2)\n",
    "ones"
   ]
  },
  {
   "attachments": {},
   "cell_type": "markdown",
   "metadata": {},
   "source": [
    "Or random weights. These are uniform distributed positive numbers between 0 and 1"
   ]
  },
  {
   "cell_type": "code",
   "execution_count": 11,
   "metadata": {},
   "outputs": [
    {
     "data": {
      "text/plain": [
       "tensor([[0.0303, 0.7011, 0.5182],\n",
       "        [0.2173, 0.1478, 0.9448]])"
      ]
     },
     "execution_count": 11,
     "metadata": {},
     "output_type": "execute_result"
    }
   ],
   "source": [
    "X3 = torch.rand(2,3)\n",
    "X3"
   ]
  },
  {
   "attachments": {},
   "cell_type": "markdown",
   "metadata": {},
   "source": [
    "If we want normally distributed numbers, we need to specify mean and standard deviation:"
   ]
  },
  {
   "cell_type": "code",
   "execution_count": 12,
   "metadata": {},
   "outputs": [
    {
     "data": {
      "text/plain": [
       "tensor([[-0.2964, -0.0248,  0.0289],\n",
       "        [-0.2669,  0.0431,  0.1096]])"
      ]
     },
     "execution_count": 12,
     "metadata": {},
     "output_type": "execute_result"
    }
   ],
   "source": [
    "X4 = torch.normal(mean=0.0, std=0.1, size=(2,3))\n",
    "X4"
   ]
  },
  {
   "attachments": {},
   "cell_type": "markdown",
   "metadata": {},
   "source": [
    "If your laptop or server has a GPU, PyTorch can run the calculations on the GPU. You can check if the GPU can be found by PyTorch with:"
   ]
  },
  {
   "cell_type": "code",
   "execution_count": 13,
   "metadata": {},
   "outputs": [
    {
     "data": {
      "text/plain": [
       "False"
      ]
     },
     "execution_count": 13,
     "metadata": {},
     "output_type": "execute_result"
    }
   ],
   "source": [
    "torch.cuda.is_available()"
   ]
  },
  {
   "attachments": {},
   "cell_type": "markdown",
   "metadata": {},
   "source": [
    "And you can set the tensor to the GPU device with `.to()`. Default is `\"cpu\"`"
   ]
  },
  {
   "cell_type": "code",
   "execution_count": 14,
   "metadata": {},
   "outputs": [
    {
     "name": "stdout",
     "output_type": "stream",
     "text": [
      "cuda not found\n"
     ]
    },
    {
     "data": {
      "text/plain": [
       "device(type='cpu')"
      ]
     },
     "execution_count": 14,
     "metadata": {},
     "output_type": "execute_result"
    }
   ],
   "source": [
    "if torch.cuda.is_available():\n",
    "    tensor = X3.to(\"cuda\")\n",
    "else:\n",
    "    print(\"cuda not found\")\n",
    "X3.device"
   ]
  },
  {
   "cell_type": "markdown",
   "metadata": {},
   "source": [
    "For people with a macbook with an `mps` backend, there is mps acceleration available."
   ]
  },
  {
   "cell_type": "code",
   "execution_count": 15,
   "metadata": {},
   "outputs": [
    {
     "name": "stdout",
     "output_type": "stream",
     "text": [
      "Using device cpu\n"
     ]
    },
    {
     "data": {
      "text/plain": [
       "tensor([[0.0303, 0.7011, 0.5182],\n",
       "        [0.2173, 0.1478, 0.9448]])"
      ]
     },
     "execution_count": 15,
     "metadata": {},
     "output_type": "execute_result"
    }
   ],
   "source": [
    "if torch.backends.mps.is_available() and torch.backends.mps.is_built():\n",
    "    device = torch.device(\"mps\")\n",
    "else:\n",
    "    device = \"cpu\"\n",
    "print(f\"Using device {device}\")\n",
    "tensor = X3.to(device)\n",
    "tensor"
   ]
  },
  {
   "cell_type": "markdown",
   "metadata": {},
   "source": [
    "Please note that using accelaration with cuda or mps is not always faster!\n",
    "Reasons why this can be slower are:\n",
    "- Memory transer: data needs to be transfered from cpu to gpu. This can be a bottleneck.\n",
    "- parallel processing limits: some architectures (especially the RNNs we will learn about in lesson 3) cant be parallelized. \n",
    "- synchronisation overhead: running things in parallel also takes some overhead to synchronise the calculations, like waiting things to finish, merging them back together, etc.\n",
    "\n",
    "This will especially be true for the simplere models and datasets we are using in the contexts of our lessons."
   ]
  },
  {
   "attachments": {},
   "cell_type": "markdown",
   "metadata": {},
   "source": [
    "Other usefull tricks are to create an array of ones. Can you figure out how to create an array of zeros for yourself?"
   ]
  },
  {
   "cell_type": "code",
   "execution_count": 16,
   "metadata": {},
   "outputs": [
    {
     "data": {
      "text/plain": [
       "tensor([[1., 1., 1., 1., 1., 1., 1., 1., 1., 1.]])"
      ]
     },
     "execution_count": 16,
     "metadata": {},
     "output_type": "execute_result"
    }
   ],
   "source": [
    "ones = torch.ones(1, 10)\n",
    "ones"
   ]
  },
  {
   "cell_type": "code",
   "execution_count": 17,
   "metadata": {},
   "outputs": [
    {
     "data": {
      "text/plain": [
       "tensor([[0., 0., 0., 0., 0., 0., 0., 0., 0., 0.]])"
      ]
     },
     "execution_count": 17,
     "metadata": {},
     "output_type": "execute_result"
    }
   ],
   "source": [
    "zeros = torch.zeros(1,10)\n",
    "zeros"
   ]
  },
  {
   "attachments": {},
   "cell_type": "markdown",
   "metadata": {},
   "source": [
    "Tensors can be concatenated. We need to specify the dimension along which the concatenation is done:"
   ]
  },
  {
   "cell_type": "code",
   "execution_count": 18,
   "metadata": {},
   "outputs": [
    {
     "data": {
      "text/plain": [
       "tensor([[1., 1., 1., 1., 1., 1., 1., 1., 1., 1.],\n",
       "        [1., 1., 1., 1., 1., 1., 1., 1., 1., 1.],\n",
       "        [1., 1., 1., 1., 1., 1., 1., 1., 1., 1.]])"
      ]
     },
     "execution_count": 18,
     "metadata": {},
     "output_type": "execute_result"
    }
   ],
   "source": [
    "torch.cat([ones, ones, ones], dim=0)"
   ]
  },
  {
   "attachments": {},
   "cell_type": "markdown",
   "metadata": {},
   "source": [
    "## 1.3 Manipulation of tensors"
   ]
  },
  {
   "attachments": {},
   "cell_type": "markdown",
   "metadata": {},
   "source": [
    "The basis of most machine learning functions is the linear function. We can easily scale this by using matrix multiplication. Let's say we start with some random data, 32 observations with 10 features."
   ]
  },
  {
   "cell_type": "code",
   "execution_count": 19,
   "metadata": {},
   "outputs": [],
   "source": [
    "X = torch.rand(32, 10)"
   ]
  },
  {
   "attachments": {},
   "cell_type": "markdown",
   "metadata": {},
   "source": [
    "Now, if we want a linear map that transforms these 10 features into 2 dimensions, we can do that with a set of weights with dimensions $(10,2)$"
   ]
  },
  {
   "cell_type": "code",
   "execution_count": 20,
   "metadata": {},
   "outputs": [],
   "source": [
    "W = torch.rand(10, 2)"
   ]
  },
  {
   "cell_type": "code",
   "execution_count": 21,
   "metadata": {},
   "outputs": [
    {
     "data": {
      "text/plain": [
       "torch.Size([32, 2])"
      ]
     },
     "execution_count": 21,
     "metadata": {},
     "output_type": "execute_result"
    }
   ],
   "source": [
    "yhat = X @ W\n",
    "yhat.shape"
   ]
  },
  {
   "attachments": {},
   "cell_type": "markdown",
   "metadata": {},
   "source": [
    "Equivalent is this syntax:"
   ]
  },
  {
   "cell_type": "code",
   "execution_count": 22,
   "metadata": {},
   "outputs": [
    {
     "data": {
      "text/plain": [
       "torch.Size([32, 2])"
      ]
     },
     "execution_count": 22,
     "metadata": {},
     "output_type": "execute_result"
    }
   ],
   "source": [
    "yhat = torch.matmul(X, W)\n",
    "yhat.shape"
   ]
  },
  {
   "attachments": {},
   "cell_type": "markdown",
   "metadata": {},
   "source": [
    "Torch will scale this up if you have more dimensions:"
   ]
  },
  {
   "cell_type": "code",
   "execution_count": 23,
   "metadata": {},
   "outputs": [
    {
     "data": {
      "text/plain": [
       "torch.Size([32, 10, 2])"
      ]
     },
     "execution_count": 23,
     "metadata": {},
     "output_type": "execute_result"
    }
   ],
   "source": [
    "X = torch.rand(32, 10, 16)\n",
    "W = torch.rand(16, 2)\n",
    "yhat = X @ W\n",
    "yhat.shape"
   ]
  },
  {
   "attachments": {},
   "cell_type": "markdown",
   "metadata": {},
   "source": [
    "And finally, we can aggregate the tensor along the two features by taking the mean over the last dimension."
   ]
  },
  {
   "cell_type": "code",
   "execution_count": 24,
   "metadata": {},
   "outputs": [
    {
     "data": {
      "text/plain": [
       "torch.Size([32, 10])"
      ]
     },
     "execution_count": 24,
     "metadata": {},
     "output_type": "execute_result"
    }
   ],
   "source": [
    "aggregate = yhat.mean(dim=-1)\n",
    "aggregate.shape"
   ]
  },
  {
   "attachments": {},
   "cell_type": "markdown",
   "metadata": {},
   "source": [
    "Try for yourself to calculate the sum"
   ]
  },
  {
   "cell_type": "code",
   "execution_count": 27,
   "metadata": {},
   "outputs": [
    {
     "data": {
      "text/plain": [
       "tensor(2307.6272)"
      ]
     },
     "execution_count": 27,
     "metadata": {},
     "output_type": "execute_result"
    }
   ],
   "source": [
    "sum = yhat.sum()\n",
    "sum"
   ]
  },
  {
   "cell_type": "code",
   "execution_count": 28,
   "metadata": {},
   "outputs": [
    {
     "data": {
      "text/plain": [
       "tensor([[ 6.0177,  7.0670,  7.4929,  7.6451,  9.9026,  7.0538,  8.6430,  9.6124,\n",
       "          7.3747,  7.0149],\n",
       "        [ 7.9805,  7.2233,  7.1893,  6.3966,  7.1448,  7.1126,  5.8291,  8.4213,\n",
       "          7.6770,  9.0323],\n",
       "        [ 8.0446,  7.2922,  5.4883,  9.4742,  5.9974,  8.8418,  7.8549,  5.5187,\n",
       "          7.5761,  8.9926],\n",
       "        [ 7.7346,  7.0114,  8.0387,  9.5681,  8.7832,  6.4554,  6.6295,  8.6493,\n",
       "          8.4422,  7.8146],\n",
       "        [ 5.7552,  7.7558,  8.1516,  7.0217,  7.3813,  6.7816,  6.3574,  6.4136,\n",
       "          7.0894,  6.0668],\n",
       "        [ 6.5010,  7.6402,  7.7193,  6.9347,  4.9714,  8.4914,  7.1966,  5.5150,\n",
       "          8.7858,  7.5796],\n",
       "        [ 6.8362,  6.6897,  6.9079,  6.9154,  6.4371,  7.3531,  5.8369,  7.3630,\n",
       "          7.9716,  4.6259],\n",
       "        [ 7.3676,  5.8190,  9.9186,  6.2333,  7.5608,  7.3758,  7.0824,  9.5023,\n",
       "          8.4372,  4.3475],\n",
       "        [ 7.2862,  7.9430,  5.5412,  5.6838,  6.4173,  8.6021,  7.1840,  6.8863,\n",
       "          7.6716,  6.3058],\n",
       "        [ 8.6370,  7.7887,  7.5809,  6.6828,  7.3961,  7.9361,  7.5048,  7.0110,\n",
       "          8.4737,  7.6169],\n",
       "        [ 5.4306,  6.1284,  8.2236,  7.5475,  7.2639,  6.7956,  8.7637,  7.6648,\n",
       "          7.7825,  5.8425],\n",
       "        [ 7.4095,  6.9897,  5.5883,  6.5319,  7.2768,  6.7751,  7.7100,  6.7072,\n",
       "          8.0612,  6.0187],\n",
       "        [ 8.6577,  6.6543,  5.1443,  9.6975, 10.0513,  6.3279,  7.5697,  8.8452,\n",
       "          6.8042,  8.8517],\n",
       "        [ 8.2688,  7.7905,  6.4235,  7.2449,  6.3991,  6.2010,  6.8107,  6.9108,\n",
       "          6.3090,  6.9662],\n",
       "        [ 6.9549,  7.3069,  5.7859,  6.0225,  8.3408,  8.5875,  6.8597,  8.4648,\n",
       "          6.6230,  7.8149],\n",
       "        [ 7.6262,  6.7230,  9.0286,  5.9986,  6.6147,  7.3531,  6.9548,  6.5888,\n",
       "          8.3928,  6.9356],\n",
       "        [ 7.2321,  7.1368,  7.9685,  6.2204,  5.7812,  7.7700,  6.6888,  7.9599,\n",
       "          5.7993,  9.6728],\n",
       "        [ 8.5707,  7.4037,  6.1859,  7.5219,  7.8830,  7.8626,  7.4215,  7.5166,\n",
       "          6.7288,  7.5432],\n",
       "        [ 6.3271,  8.0572,  8.2933,  6.0146,  6.2490,  6.0886,  6.3036,  6.8966,\n",
       "          9.4265,  6.0080],\n",
       "        [ 7.0448,  7.0683,  6.6591,  8.2105,  5.9382,  6.2600,  6.4648,  8.0289,\n",
       "          8.0459,  6.0017],\n",
       "        [ 8.2369,  5.8809,  7.5621,  6.2372,  5.9553,  7.3576,  8.4789,  6.3439,\n",
       "          7.6992,  5.4878],\n",
       "        [ 7.7660,  7.7420,  6.1136,  7.6274,  7.1893,  7.7674,  8.4998,  7.7542,\n",
       "          8.3705,  8.3445],\n",
       "        [ 7.8636,  7.7041,  6.7705,  6.2593,  5.6244,  8.2877,  7.0565,  6.6667,\n",
       "         10.4814,  8.1402],\n",
       "        [ 9.1747,  5.9567,  5.9930,  8.9337,  5.3923,  6.5041,  8.8585,  5.8167,\n",
       "          7.1785,  7.1305],\n",
       "        [ 6.6786,  6.5001,  9.5065,  9.1015,  7.9262,  8.1292,  7.4030,  7.9421,\n",
       "          6.1293,  7.9259],\n",
       "        [ 5.5167,  6.1587,  5.1334,  6.2384,  6.1986,  7.7015,  7.3159,  6.2312,\n",
       "          6.8045,  8.4748],\n",
       "        [ 7.7239,  6.8094,  7.9168,  5.8120,  5.8971,  6.4613,  7.0356,  6.5732,\n",
       "          5.1737,  4.7272],\n",
       "        [ 5.6478,  7.0981,  7.1188,  8.1585,  7.0721,  7.8694,  6.0429,  7.0793,\n",
       "          7.9946,  5.7663],\n",
       "        [ 7.1233,  8.1569,  8.5328,  7.7434,  6.4297,  5.0128,  8.1143,  6.4798,\n",
       "          5.6744,  6.6790],\n",
       "        [ 9.4111,  8.0573,  6.0808,  5.7351,  5.3572,  6.1008,  5.0042,  9.0776,\n",
       "          5.9534,  6.3644],\n",
       "        [ 7.0650,  6.3795,  9.0419,  7.2754,  5.3704,  7.1677,  6.7999,  6.3361,\n",
       "          8.7287,  7.8908],\n",
       "        [ 7.7576,  8.3838,  8.3647,  7.5870,  5.9689,  6.9592,  7.0619,  8.6930,\n",
       "          8.3698,  7.5864]])"
      ]
     },
     "execution_count": 28,
     "metadata": {},
     "output_type": "execute_result"
    }
   ],
   "source": [
    "sum_lastdim = yhat.sum(dim=-1)\n",
    "sum_lastdim"
   ]
  },
  {
   "cell_type": "code",
   "execution_count": 29,
   "metadata": {},
   "outputs": [
    {
     "data": {
      "text/plain": [
       "torch.Size([32, 10])"
      ]
     },
     "execution_count": 29,
     "metadata": {},
     "output_type": "execute_result"
    }
   ],
   "source": [
    "sum_lastdim.shape"
   ]
  },
  {
   "cell_type": "code",
   "execution_count": 30,
   "metadata": {},
   "outputs": [
    {
     "data": {
      "text/plain": [
       "torch.Size([10, 2])"
      ]
     },
     "execution_count": 30,
     "metadata": {},
     "output_type": "execute_result"
    }
   ],
   "source": [
    "sum_firstdim = yhat.sum(dim=0)\n",
    "sum_firstdim.shape"
   ]
  },
  {
   "attachments": {},
   "cell_type": "markdown",
   "metadata": {},
   "source": [
    "## 1.4 GPU or CPU"
   ]
  },
  {
   "attachments": {},
   "cell_type": "markdown",
   "metadata": {},
   "source": [
    "Tensors live in the CPU or GPU:"
   ]
  },
  {
   "cell_type": "code",
   "execution_count": 31,
   "metadata": {},
   "outputs": [
    {
     "data": {
      "text/plain": [
       "device(type='cpu')"
      ]
     },
     "execution_count": 31,
     "metadata": {},
     "output_type": "execute_result"
    }
   ],
   "source": [
    "X.device"
   ]
  },
  {
   "attachments": {},
   "cell_type": "markdown",
   "metadata": {},
   "source": [
    "You can check if you have a GPU available:"
   ]
  },
  {
   "cell_type": "code",
   "execution_count": 32,
   "metadata": {},
   "outputs": [
    {
     "data": {
      "text/plain": [
       "False"
      ]
     },
     "execution_count": 32,
     "metadata": {},
     "output_type": "execute_result"
    }
   ],
   "source": [
    "torch.cuda.is_available()"
   ]
  },
  {
   "attachments": {},
   "cell_type": "markdown",
   "metadata": {},
   "source": [
    "Or a mac with M1"
   ]
  },
  {
   "cell_type": "code",
   "execution_count": 33,
   "metadata": {},
   "outputs": [
    {
     "data": {
      "text/plain": [
       "False"
      ]
     },
     "execution_count": 33,
     "metadata": {},
     "output_type": "execute_result"
    }
   ],
   "source": [
    "torch.backends.mps.is_available()"
   ]
  },
  {
   "attachments": {},
   "cell_type": "markdown",
   "metadata": {},
   "source": [
    "And move a tensor to the GPU for faster computing, if available"
   ]
  },
  {
   "cell_type": "code",
   "execution_count": 34,
   "metadata": {},
   "outputs": [
    {
     "data": {
      "text/plain": [
       "device(type='cpu')"
      ]
     },
     "execution_count": 34,
     "metadata": {},
     "output_type": "execute_result"
    }
   ],
   "source": [
    "if torch.cuda.is_available():\n",
    "    X_ = X.to(\"cuda\")\n",
    "elif torch.backends.mps.is_available():\n",
    "    X_ = X.to(\"mps\")\n",
    "else:\n",
    "    X_ = X.to(\"cpu\")\n",
    "X_.device"
   ]
  },
  {
   "attachments": {},
   "cell_type": "markdown",
   "metadata": {},
   "source": [
    "## 1.5 Reshape or View"
   ]
  },
  {
   "attachments": {},
   "cell_type": "markdown",
   "metadata": {},
   "source": [
    "Often, you will need to reshape a tensor:"
   ]
  },
  {
   "cell_type": "code",
   "execution_count": 35,
   "metadata": {},
   "outputs": [
    {
     "data": {
      "text/plain": [
       "(torch.Size([32, 28, 28, 1]), torch.Size([32, 784]), torch.Size([32, 784]))"
      ]
     },
     "execution_count": 35,
     "metadata": {},
     "output_type": "execute_result"
    }
   ],
   "source": [
    "X = torch.rand(32, 28, 28, 1)\n",
    "X_view = X.view(32, 28*28)\n",
    "X_reshape = X.reshape(32, 28*28)\n",
    "X.shape, X_view.shape, X_reshape.shape"
   ]
  },
  {
   "attachments": {},
   "cell_type": "markdown",
   "metadata": {},
   "source": [
    "The difference between `view` and `reshape` is: `view` operates as a view on the original tensor. If the underlying data is changed, the view will change too.\n",
    "\n",
    "No data movement occurs when creating a view, view tensor just changes the way it interprets the same data."
   ]
  },
  {
   "cell_type": "code",
   "execution_count": 36,
   "metadata": {},
   "outputs": [
    {
     "name": "stderr",
     "output_type": "stream",
     "text": [
      "C:\\Users\\dilek\\AppData\\Local\\Temp\\ipykernel_46320\\3787215844.py:3: UserWarning: TypedStorage is deprecated. It will be removed in the future and UntypedStorage will be the only storage class. This should only matter to you if you are using storages directly.  To access UntypedStorage directly, use tensor.untyped_storage() instead of tensor.storage()\n",
      "  X.storage().data_ptr() == X_view.storage().data_ptr()\n"
     ]
    },
    {
     "data": {
      "text/plain": [
       "True"
      ]
     },
     "execution_count": 36,
     "metadata": {},
     "output_type": "execute_result"
    }
   ],
   "source": [
    "X = torch.Tensor([0, 0])\n",
    "X_view = X.view(1,2)\n",
    "X.storage().data_ptr() == X_view.storage().data_ptr()"
   ]
  },
  {
   "cell_type": "code",
   "execution_count": 37,
   "metadata": {},
   "outputs": [
    {
     "data": {
      "text/plain": [
       "tensor([[1., 0.]])"
      ]
     },
     "execution_count": 37,
     "metadata": {},
     "output_type": "execute_result"
    }
   ],
   "source": [
    "X[0] = 1\n",
    "X_view"
   ]
  },
  {
   "attachments": {},
   "cell_type": "markdown",
   "metadata": {},
   "source": [
    "`view` can throw an error if the required view is not contiguous (does not share the same memory block)\n",
    "\n",
    "> A tensor whose values are laid out in the storage starting from the rightmost dimension onward (that is, moving along rows for a 2D tensor) is defined as contiguous. Contiguous tensors are convenient because we can visit them efficiently in order without jumping around in the storage (improving data locality improves performance because of the way memory access works on modern CPUs). This advantage of course depends on the way algorithms visit.\n",
    "\n",
    "You could call `.contiugous()` on a `view`, but `.reshape()` does that behind the scenes."
   ]
  },
  {
   "attachments": {},
   "cell_type": "markdown",
   "metadata": {},
   "source": [
    "## 1.6 Permute"
   ]
  },
  {
   "attachments": {},
   "cell_type": "markdown",
   "metadata": {},
   "source": [
    "Sometimes you might want to reshuffle the order of a tensor.\n",
    "\n",
    "For example, let's say we load an batch of 32 images, where every image has a size of 28x28 pixels, and has 3 channels (RGB color)"
   ]
  },
  {
   "cell_type": "code",
   "execution_count": 38,
   "metadata": {},
   "outputs": [],
   "source": [
    "X = torch.rand(32, 28, 28, 3)"
   ]
  },
  {
   "attachments": {},
   "cell_type": "markdown",
   "metadata": {},
   "source": [
    "It is the case that there are different conventions for manipulating tensors in image recognition models. Some models have a channel-last convention, like I used above, but some (like [pytorch](https://pytorch.org/docs/stable/generated/torch.nn.Conv2d.html)) use a channel first convention, which would be (batch, channel, height, width).\n",
    "\n",
    "You would want to swap the 4th dimension to the 2nd, or if you start from zero:"
   ]
  },
  {
   "cell_type": "code",
   "execution_count": 39,
   "metadata": {},
   "outputs": [
    {
     "data": {
      "text/plain": [
       "torch.Size([32, 3, 28, 28])"
      ]
     },
     "execution_count": 39,
     "metadata": {},
     "output_type": "execute_result"
    }
   ],
   "source": [
    "channel_first = X.permute(0, 3, 1, 2)\n",
    "channel_first.shape"
   ]
  },
  {
   "attachments": {},
   "cell_type": "markdown",
   "metadata": {},
   "source": [
    "## 1.7 Broadcasting\n",
    "\n",
    "Broadcasting is something you might know from `numpy`, but it is also used by `tensorflow`, `jax` and `torch`. \n",
    "\n",
    "Broadcasting allows to extend a dimension, without the need to do so explicitly. The rules for broadcasting are simple:\n",
    "\n",
    "- two dimesions are equal\n",
    "- one of the dimensions is 1\n",
    "\n",
    "but lets show an example"
   ]
  },
  {
   "cell_type": "code",
   "execution_count": 40,
   "metadata": {},
   "outputs": [
    {
     "data": {
      "text/plain": [
       "(tensor([[1., 1.],\n",
       "         [1., 1.]]),\n",
       " tensor([[1., 1.],\n",
       "         [1., 1.]]),\n",
       " tensor([[2., 2.],\n",
       "         [2., 2.]]))"
      ]
     },
     "execution_count": 40,
     "metadata": {},
     "output_type": "execute_result"
    }
   ],
   "source": [
    "a = torch.ones(2, 2)\n",
    "b = torch.ones(2, 2)\n",
    "a, b, a+b"
   ]
  },
  {
   "attachments": {},
   "cell_type": "markdown",
   "metadata": {},
   "source": [
    "This is straigh forward. But what would happen in this case:"
   ]
  },
  {
   "cell_type": "code",
   "execution_count": 41,
   "metadata": {},
   "outputs": [],
   "source": [
    "a = torch.ones(1, 2)\n",
    "b = torch.ones(2, 2)"
   ]
  },
  {
   "attachments": {},
   "cell_type": "markdown",
   "metadata": {},
   "source": [
    "`b` is a 2x2 grid, and has four numbers. If we want to add `a`, we have only two numbers! Now, you could start stacking the `a` tensor to get matching dimensions. But you dont have to!"
   ]
  },
  {
   "cell_type": "code",
   "execution_count": 42,
   "metadata": {},
   "outputs": [
    {
     "data": {
      "text/plain": [
       "tensor([[2., 2.],\n",
       "        [2., 2.]])"
      ]
     },
     "execution_count": 42,
     "metadata": {},
     "output_type": "execute_result"
    }
   ],
   "source": [
    "a + b"
   ]
  },
  {
   "attachments": {},
   "cell_type": "markdown",
   "metadata": {},
   "source": [
    "See what happened here? \n",
    "\n",
    "`a` is magically broadcasted over the first dimension. And what would you guess would happen in this case:"
   ]
  },
  {
   "cell_type": "code",
   "execution_count": 47,
   "metadata": {},
   "outputs": [
    {
     "data": {
      "text/plain": [
       "torch.Size([3, 5, 3, 4])"
      ]
     },
     "execution_count": 47,
     "metadata": {},
     "output_type": "execute_result"
    }
   ],
   "source": [
    "a = torch.ones(1, 5, 1, 4)\n",
    "b = torch.ones(3, 1, 3, 1)\n",
    "x = a+b\n",
    "x.shape"
   ]
  },
  {
   "attachments": {},
   "cell_type": "markdown",
   "metadata": {},
   "source": [
    "First, predict the output shape, then check it for yourself.\n",
    "\n",
    "And, what would you think happens here; do you think this gives an error, or do you think it broadcasts?"
   ]
  },
  {
   "cell_type": "code",
   "execution_count": 48,
   "metadata": {},
   "outputs": [
    {
     "data": {
      "text/plain": [
       "torch.Size([3, 5, 3, 4])"
      ]
     },
     "execution_count": 48,
     "metadata": {},
     "output_type": "execute_result"
    }
   ],
   "source": [
    "a = torch.ones(5, 1, 4)\n",
    "b = torch.ones(3, 1, 3, 1)\n",
    "y = a+b \n",
    "y.shape"
   ]
  },
  {
   "cell_type": "code",
   "execution_count": null,
   "metadata": {},
   "outputs": [],
   "source": []
  }
 ],
 "metadata": {
  "kernelspec": {
   "display_name": "Python 3 (ipykernel)",
   "language": "python",
   "name": "python3"
  },
  "language_info": {
   "codemirror_mode": {
    "name": "ipython",
    "version": 3
   },
   "file_extension": ".py",
   "mimetype": "text/x-python",
   "name": "python",
   "nbconvert_exporter": "python",
   "pygments_lexer": "ipython3",
   "version": "3.11.9"
  },
  "vscode": {
   "interpreter": {
    "hash": "45c41bdaf5373703b03bba2d9bd89c97dc8ee5add9f1112e039ff04603b8e2ee"
   }
  }
 },
 "nbformat": 4,
 "nbformat_minor": 4
}
