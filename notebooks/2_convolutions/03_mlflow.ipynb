{
 "cells": [
  {
   "cell_type": "code",
   "execution_count": 1,
   "metadata": {},
   "outputs": [],
   "source": [
    "from pathlib import Path\n",
    "import torch\n",
    "import torch.nn as nn\n",
    "from loguru import logger\n",
    "import warnings\n",
    "warnings.simplefilter(\"ignore\", UserWarning)"
   ]
  },
  {
   "cell_type": "markdown",
   "metadata": {},
   "source": [
    "Let's use the mads_datasets package (see [github](https://github.com/raoulg/mads_datasets) for more details) which I created for these lessons to give everyone easy access to the datasets we use for training."
   ]
  },
  {
   "cell_type": "code",
   "execution_count": 2,
   "metadata": {},
   "outputs": [
    {
     "name": "stdout",
     "output_type": "stream",
     "text": [
      "DatasetType.FLOWERS\n",
      "DatasetType.IMDB\n",
      "DatasetType.GESTURES\n",
      "DatasetType.FASHION\n",
      "DatasetType.SUNSPOTS\n",
      "DatasetType.IRIS\n",
      "DatasetType.PENGUINS\n",
      "DatasetType.FAVORITA\n",
      "DatasetType.SECURE\n"
     ]
    }
   ],
   "source": [
    "from mads_datasets import DatasetFactoryProvider, DatasetType\n",
    "from mltrainer.preprocessors import BasePreprocessor\n",
    "\n",
    "for dataset in DatasetType:\n",
    "    print(dataset)"
   ]
  },
  {
   "cell_type": "markdown",
   "metadata": {},
   "source": [
    "There are a few datasets. For images, we can use FLOWERS (~3000 photos of flowers in 5 categories) and FASHION (60k fashion icons 28x28 pixels big)."
   ]
  },
  {
   "attachments": {},
   "cell_type": "markdown",
   "metadata": {},
   "source": [
    "Lets start with our good'ol MNIST."
   ]
  },
  {
   "cell_type": "code",
   "execution_count": 3,
   "metadata": {},
   "outputs": [
    {
     "name": "stderr",
     "output_type": "stream",
     "text": [
      "\u001b[32m2024-10-28 14:23:52.248\u001b[0m | \u001b[1mINFO    \u001b[0m | \u001b[36mmads_datasets.base\u001b[0m:\u001b[36mdownload_data\u001b[0m:\u001b[36m121\u001b[0m - \u001b[1mFolder already exists at C:\\Users\\dilek\\.cache\\mads_datasets\\fashionmnist\u001b[0m\n",
      "\u001b[32m2024-10-28 14:23:52.249\u001b[0m | \u001b[1mINFO    \u001b[0m | \u001b[36mmads_datasets.base\u001b[0m:\u001b[36mdownload_data\u001b[0m:\u001b[36m124\u001b[0m - \u001b[1mFile already exists at C:\\Users\\dilek\\.cache\\mads_datasets\\fashionmnist\\fashionmnist.pt\u001b[0m\n"
     ]
    }
   ],
   "source": [
    "\n",
    "fashionfactory = DatasetFactoryProvider.create_factory(DatasetType.FASHION)\n",
    "batchsize = 64\n",
    "preprocessor = BasePreprocessor()\n",
    "streamers = fashionfactory.create_datastreamer(batchsize=batchsize, preprocessor=preprocessor)\n",
    "train = streamers[\"train\"]\n",
    "valid = streamers[\"valid\"]\n",
    "trainstreamer = train.stream()\n",
    "validstreamer = valid.stream()"
   ]
  },
  {
   "attachments": {},
   "cell_type": "markdown",
   "metadata": {},
   "source": [
    "We can obtain an item:"
   ]
  },
  {
   "cell_type": "code",
   "execution_count": 4,
   "metadata": {},
   "outputs": [
    {
     "data": {
      "text/plain": [
       "(torch.Size([64, 1, 28, 28]), torch.Size([64]))"
      ]
     },
     "execution_count": 4,
     "metadata": {},
     "output_type": "execute_result"
    }
   ],
   "source": [
    "x, y = next(iter(trainstreamer))\n",
    "x.shape, y.shape"
   ]
  },
  {
   "attachments": {},
   "cell_type": "markdown",
   "metadata": {},
   "source": [
    "The image follows the channels-first convention: (channel, width, height). The label is an integer.\n",
    "\n",
    "Let's re-use the model we had:"
   ]
  },
  {
   "cell_type": "code",
   "execution_count": 5,
   "metadata": {},
   "outputs": [
    {
     "name": "stdout",
     "output_type": "stream",
     "text": [
      "using cpu\n"
     ]
    }
   ],
   "source": [
    "import torch\n",
    "if torch.backends.mps.is_available() and torch.backends.mps.is_built():\n",
    "    device = torch.device(\"mps\")\n",
    "    print(\"Using MPS\")\n",
    "elif torch.cuda.is_available():\n",
    "    device = \"cuda:0\"\n",
    "    print(\"using cuda\")\n",
    "else:\n",
    "    device = \"cpu\"\n",
    "    print(\"using cpu\")"
   ]
  },
  {
   "cell_type": "code",
   "execution_count": 6,
   "metadata": {},
   "outputs": [
    {
     "name": "stderr",
     "output_type": "stream",
     "text": [
      "\u001b[32m2024-10-28 14:25:03.224\u001b[0m | \u001b[1mINFO    \u001b[0m | \u001b[36m__main__\u001b[0m:\u001b[36m__init__\u001b[0m:\u001b[36m22\u001b[0m - \u001b[1mAggregating activationmap with size torch.Size([2, 2])\u001b[0m\n"
     ]
    },
    {
     "name": "stdout",
     "output_type": "stream",
     "text": [
      "Using cpu device\n"
     ]
    }
   ],
   "source": [
    "from torch import nn\n",
    "print(f\"Using {device} device\")\n",
    "\n",
    "# Define model\n",
    "class CNN(nn.Module):\n",
    "    def __init__(self, filters, units1, units2, input_size=(32, 1, 28, 28)):\n",
    "        super().__init__()\n",
    "\n",
    "        self.convolutions = nn.Sequential(\n",
    "            nn.Conv2d(1, filters, kernel_size=3, stride=1, padding=1),\n",
    "            nn.ReLU(),\n",
    "            nn.MaxPool2d(kernel_size=2),\n",
    "            nn.Conv2d(filters, filters, kernel_size=3, stride=1, padding=0),\n",
    "            nn.ReLU(),\n",
    "            nn.MaxPool2d(kernel_size=2),\n",
    "            nn.Conv2d(filters, filters, kernel_size=3, stride=1, padding=0),\n",
    "            nn.ReLU(),\n",
    "            nn.MaxPool2d(kernel_size=2),\n",
    "        )\n",
    "\n",
    "        activation_map_size = self._conv_test(input_size)\n",
    "        logger.info(f\"Aggregating activationmap with size {activation_map_size}\")\n",
    "        self.agg = nn.AvgPool2d(activation_map_size)\n",
    "\n",
    "        self.dense = nn.Sequential(\n",
    "            nn.Flatten(),\n",
    "            nn.Linear(filters, units1),\n",
    "            nn.ReLU(),\n",
    "            nn.Linear(units1, units2),\n",
    "            nn.ReLU(),\n",
    "            nn.Linear(units2, 10)\n",
    "        )\n",
    "\n",
    "    def _conv_test(self, input_size = (32, 1, 28, 28)):\n",
    "        x = torch.ones(input_size)\n",
    "        x = self.convolutions(x)\n",
    "        return x.shape[-2:]\n",
    "\n",
    "    def forward(self, x):\n",
    "        x = self.convolutions(x)\n",
    "        x = self.agg(x)\n",
    "        logits = self.dense(x)\n",
    "        return logits\n",
    "\n",
    "model = CNN(filters=32, units1=128, units2=64).to(\"cpu\")"
   ]
  },
  {
   "cell_type": "code",
   "execution_count": 7,
   "metadata": {},
   "outputs": [
    {
     "name": "stdout",
     "output_type": "stream",
     "text": [
      "----------------------------------------------------------------\n",
      "        Layer (type)               Output Shape         Param #\n",
      "================================================================\n",
      "            Conv2d-1           [-1, 32, 28, 28]             320\n",
      "              ReLU-2           [-1, 32, 28, 28]               0\n",
      "         MaxPool2d-3           [-1, 32, 14, 14]               0\n",
      "            Conv2d-4           [-1, 32, 12, 12]           9,248\n",
      "              ReLU-5           [-1, 32, 12, 12]               0\n",
      "         MaxPool2d-6             [-1, 32, 6, 6]               0\n",
      "            Conv2d-7             [-1, 32, 4, 4]           9,248\n",
      "              ReLU-8             [-1, 32, 4, 4]               0\n",
      "         MaxPool2d-9             [-1, 32, 2, 2]               0\n",
      "        AvgPool2d-10             [-1, 32, 1, 1]               0\n",
      "          Flatten-11                   [-1, 32]               0\n",
      "           Linear-12                  [-1, 128]           4,224\n",
      "             ReLU-13                  [-1, 128]               0\n",
      "           Linear-14                   [-1, 64]           8,256\n",
      "             ReLU-15                   [-1, 64]               0\n",
      "           Linear-16                   [-1, 10]             650\n",
      "================================================================\n",
      "Total params: 31,946\n",
      "Trainable params: 31,946\n",
      "Non-trainable params: 0\n",
      "----------------------------------------------------------------\n",
      "Input size (MB): 0.00\n",
      "Forward/backward pass size (MB): 0.52\n",
      "Params size (MB): 0.12\n",
      "Estimated Total Size (MB): 0.65\n",
      "----------------------------------------------------------------\n"
     ]
    }
   ],
   "source": [
    "from torchsummary import summary\n",
    "summary(model, input_size=(1, 28, 28), device=\"cpu\")"
   ]
  },
  {
   "attachments": {},
   "cell_type": "markdown",
   "metadata": {},
   "source": [
    "And set up the optimizer, loss and accuracy."
   ]
  },
  {
   "cell_type": "code",
   "execution_count": 8,
   "metadata": {},
   "outputs": [],
   "source": [
    "import torch.optim as optim\n",
    "from mltrainer import metrics\n",
    "optimizer = optim.Adam\n",
    "loss_fn = torch.nn.CrossEntropyLoss()\n",
    "accuracy = metrics.Accuracy()"
   ]
  },
  {
   "cell_type": "code",
   "execution_count": 9,
   "metadata": {},
   "outputs": [
    {
     "data": {
      "text/plain": [
       "tensor(0.0781)"
      ]
     },
     "execution_count": 9,
     "metadata": {},
     "output_type": "execute_result"
    }
   ],
   "source": [
    "yhat = model(x.to(\"cpu\"))\n",
    "accuracy(y.to(\"cpu\"), yhat)"
   ]
  },
  {
   "attachments": {},
   "cell_type": "markdown",
   "metadata": {},
   "source": [
    "# MLflow\n",
    "MLflow is an open-source platform designed to manage the entire Machine Learning (ML) lifecycle, including experimentation, reproducibility, deployment, and governance. It provides a set of APIs and tools to streamline ML workflows, making it easier to track experiments, package code, manage model versions, and deploy models.\n",
    "\n",
    "Reasons to use MLflow over TensorBoard, gin-config, or Ray:\n",
    "\n",
    "- End-to-end ML lifecycle management: While TensorBoard focuses on visualizing model training metrics and gin-config on hyperparameter configuration, MLflow covers a broader range of tasks, such as experiment tracking, model packaging, and deployment.\n",
    "\n",
    "- Framework agnostic: MLflow is not tied to a specific ML framework, making it suitable for projects using different libraries or even multiple libraries.\n",
    "\n",
    "- Model Registry: MLflow provides a centralized model registry, allowing you to version, track, and manage your models, which is not available in TensorBoard or gin-config.\n",
    "\n",
    "- Deployment support: MLflow facilitates model deployment to various platforms, such as local, cloud, or Kubernetes environments, whereas TensorBoard and gin-config are not built for deployment tasks.\n",
    "\n",
    "- Integration with other tools: MLflow integrates with popular tools and platforms like Databricks, AWS, and Azure, making it easy to incorporate into existing workflows.\n",
    "\n",
    "However, the choice between MLflow and other tools like TensorBoard, gin-config, or Ray depends on your specific use case and the scope of the ML workflow you want to manage."
   ]
  },
  {
   "cell_type": "code",
   "execution_count": 10,
   "metadata": {},
   "outputs": [],
   "source": [
    "experiment_path = \"mlflow_test\""
   ]
  },
  {
   "cell_type": "code",
   "execution_count": 11,
   "metadata": {},
   "outputs": [
    {
     "name": "stderr",
     "output_type": "stream",
     "text": [
      "2024/10/28 14:26:23 INFO mlflow.store.db.utils: Creating initial MLflow database tables...\n",
      "2024/10/28 14:26:23 INFO mlflow.store.db.utils: Updating database tables\n",
      "INFO  [alembic.runtime.migration] Context impl SQLiteImpl.\n",
      "INFO  [alembic.runtime.migration] Will assume non-transactional DDL.\n",
      "INFO  [alembic.runtime.migration] Running upgrade  -> 451aebb31d03, add metric step\n",
      "INFO  [alembic.runtime.migration] Running upgrade 451aebb31d03 -> 90e64c465722, migrate user column to tags\n",
      "INFO  [alembic.runtime.migration] Running upgrade 90e64c465722 -> 181f10493468, allow nulls for metric values\n",
      "INFO  [alembic.runtime.migration] Running upgrade 181f10493468 -> df50e92ffc5e, Add Experiment Tags Table\n",
      "INFO  [alembic.runtime.migration] Running upgrade df50e92ffc5e -> 7ac759974ad8, Update run tags with larger limit\n",
      "INFO  [alembic.runtime.migration] Running upgrade 7ac759974ad8 -> 89d4b8295536, create latest metrics table\n",
      "INFO  [89d4b8295536_create_latest_metrics_table_py] Migration complete!\n",
      "INFO  [alembic.runtime.migration] Running upgrade 89d4b8295536 -> 2b4d017a5e9b, add model registry tables to db\n",
      "INFO  [2b4d017a5e9b_add_model_registry_tables_to_db_py] Adding registered_models and model_versions tables to database.\n",
      "INFO  [2b4d017a5e9b_add_model_registry_tables_to_db_py] Migration complete!\n",
      "INFO  [alembic.runtime.migration] Running upgrade 2b4d017a5e9b -> cfd24bdc0731, Update run status constraint with killed\n",
      "INFO  [alembic.runtime.migration] Running upgrade cfd24bdc0731 -> 0a8213491aaa, drop_duplicate_killed_constraint\n",
      "INFO  [alembic.runtime.migration] Running upgrade 0a8213491aaa -> 728d730b5ebd, add registered model tags table\n",
      "INFO  [alembic.runtime.migration] Running upgrade 728d730b5ebd -> 27a6a02d2cf1, add model version tags table\n",
      "INFO  [alembic.runtime.migration] Running upgrade 27a6a02d2cf1 -> 84291f40a231, add run_link to model_version\n",
      "INFO  [alembic.runtime.migration] Running upgrade 84291f40a231 -> a8c4a736bde6, allow nulls for run_id\n",
      "INFO  [alembic.runtime.migration] Running upgrade a8c4a736bde6 -> 39d1c3be5f05, add_is_nan_constraint_for_metrics_tables_if_necessary\n",
      "INFO  [alembic.runtime.migration] Running upgrade 39d1c3be5f05 -> c48cb773bb87, reset_default_value_for_is_nan_in_metrics_table_for_mysql\n",
      "INFO  [alembic.runtime.migration] Running upgrade c48cb773bb87 -> bd07f7e963c5, create index on run_uuid\n",
      "INFO  [alembic.runtime.migration] Running upgrade bd07f7e963c5 -> 0c779009ac13, add deleted_time field to runs table\n",
      "INFO  [alembic.runtime.migration] Running upgrade 0c779009ac13 -> cc1f77228345, change param value length to 500\n",
      "INFO  [alembic.runtime.migration] Running upgrade cc1f77228345 -> 97727af70f4d, Add creation_time and last_update_time to experiments table\n",
      "INFO  [alembic.runtime.migration] Running upgrade 97727af70f4d -> 3500859a5d39, Add Model Aliases table\n",
      "INFO  [alembic.runtime.migration] Running upgrade 3500859a5d39 -> 7f2a7d5fae7d, add datasets inputs input_tags tables\n",
      "INFO  [alembic.runtime.migration] Running upgrade 7f2a7d5fae7d -> 2d6e25af4d3e, increase max param val length from 500 to 8000\n",
      "INFO  [alembic.runtime.migration] Running upgrade 2d6e25af4d3e -> acf3f17fdcc7, add storage location field to model versions\n",
      "INFO  [alembic.runtime.migration] Context impl SQLiteImpl.\n",
      "INFO  [alembic.runtime.migration] Will assume non-transactional DDL.\n",
      "2024/10/28 14:26:24 INFO mlflow.tracking.fluent: Experiment with name 'mlflow_test' does not exist. Creating a new experiment.\n"
     ]
    },
    {
     "data": {
      "text/plain": [
       "<Experiment: artifact_location='file:///C:/Users/dilek/Desktop/Advanced_AI_Applications_WS24-25_MADS_HSRW/notebooks/2_convolutions/mlruns/1', creation_time=1730121984736, experiment_id='1', last_update_time=1730121984736, lifecycle_stage='active', name='mlflow_test', tags={}>"
      ]
     },
     "execution_count": 11,
     "metadata": {},
     "output_type": "execute_result"
    }
   ],
   "source": [
    "import mlflow\n",
    "mlflow.set_tracking_uri(\"sqlite:///mlflow.db\")\n",
    "mlflow.set_experiment(experiment_path)"
   ]
  },
  {
   "attachments": {},
   "cell_type": "markdown",
   "metadata": {},
   "source": [
    "In the code above, we set the MLflow tracking URI to a local SQLite database file. This is done to configure the storage location for MLflow's experiment tracking data, such as metrics, parameters, and artifacts. By specifying a SQLite database, we enable a lightweight and easy-to-use storage solution for tracking the experiments and their associated information.\n",
    "\n",
    "The line mlflow.set_experiment(\"mnist_convolutions\") sets the active MLflow experiment to \"mnist_convolutions\". This is useful for organizing and grouping your runs, as it allows you to associate the upcoming ML training runs with a specific experiment name, making it easier to search, compare, and analyze the results later."
   ]
  },
  {
   "cell_type": "code",
   "execution_count": 12,
   "metadata": {},
   "outputs": [],
   "source": [
    "from hyperopt import fmin, tpe, hp, STATUS_OK, Trials\n",
    "from hyperopt.pyll import scope"
   ]
  },
  {
   "attachments": {},
   "cell_type": "markdown",
   "metadata": {},
   "source": [
    "We import functions and classes from the hyperopt library to perform hyperparameter optimization. This library helps us find the best hyperparameter values for our machine learning model by searching through a defined search space and using optimization algorithms like Tree-structured Parzen Estimator (TPE). The goal is to improve our model's performance by tuning its hyperparameters.\n",
    "\n",
    "Advantages of TPE:\n",
    "\n",
    "- Model-based approach: TPE is a Bayesian optimization method that models the objective function as a probability distribution. It learns from previous evaluations to decide which points in the search space to explore next, making it more efficient in finding optimal hyperparameters.\n",
    "\n",
    "- Exploration-exploitation trade-off: TPE balances the trade-off between exploration (searching in new regions of the search space) and exploitation (refining around the current best points). This can lead to better results in problems with complex search spaces.\n",
    "\n",
    "- Continuous hyperparameter optimization: TPE can handle continuous hyperparameters more naturally, as it builds a probability model to estimate the performance for any given point in the search space.\n",
    "\n",
    "Lets set up an objective function and start logging some usefull things we might want to track:"
   ]
  },
  {
   "cell_type": "code",
   "execution_count": 13,
   "metadata": {},
   "outputs": [
    {
     "name": "stdout",
     "output_type": "stream",
     "text": [
      "Created C:\\Users\\dilek\\Desktop\\Advanced_AI_Applications_WS24-25_MADS_HSRW\\models\\mnist\n"
     ]
    }
   ],
   "source": [
    "modeldir = Path(\"../../models/mnist\").resolve()\n",
    "if not modeldir.exists():\n",
    "    modeldir.mkdir()\n",
    "    print(f\"Created {modeldir}\")"
   ]
  },
  {
   "cell_type": "code",
   "execution_count": 14,
   "metadata": {},
   "outputs": [
    {
     "name": "stderr",
     "output_type": "stream",
     "text": [
      "\u001b[32m2024-10-28 14:27:34.843\u001b[0m | \u001b[1mINFO    \u001b[0m | \u001b[36mmltrainer.settings\u001b[0m:\u001b[36mcheck_path\u001b[0m:\u001b[36m61\u001b[0m - \u001b[1mCreated logdir C:\\Users\\dilek\\Desktop\\Advanced_AI_Applications_WS24-25_MADS_HSRW\\notebooks\\2_convolutions\\modellog\u001b[0m\n"
     ]
    }
   ],
   "source": [
    "import torch.optim as optim\n",
    "from mltrainer import metrics, Trainer, TrainerSettings, ReportTypes\n",
    "from datetime import datetime\n",
    "\n",
    "# Define the hyperparameter search space\n",
    "settings = TrainerSettings(\n",
    "    epochs=3,\n",
    "    metrics=[accuracy],\n",
    "    logdir=\"modellog\",\n",
    "    train_steps=100,\n",
    "    valid_steps=100,\n",
    "    reporttypes=[ReportTypes.MLFLOW],\n",
    ")\n",
    "\n",
    "\n",
    "# Define the objective function for hyperparameter optimization\n",
    "def objective(params):\n",
    "    # Start a new MLflow run for tracking the experiment\n",
    "    with mlflow.start_run():\n",
    "        # Set MLflow tags to record metadata about the model and developer\n",
    "        mlflow.set_tag(\"model\", \"convnet\")\n",
    "        mlflow.set_tag(\"dev\", \"raoul\")\n",
    "        # Log hyperparameters to MLflow\n",
    "        mlflow.log_params(params)\n",
    "        mlflow.log_param(\"batchsize\", f\"{batchsize}\")\n",
    "\n",
    "\n",
    "        # Initialize the optimizer, loss function, and accuracy metric\n",
    "        optimizer = optim.Adam\n",
    "        loss_fn = torch.nn.CrossEntropyLoss()\n",
    "        accuracy = metrics.Accuracy()\n",
    "\n",
    "        # Instantiate the CNN model with the given hyperparameters\n",
    "        model = CNN(**params)\n",
    "        # Train the model using a custom train loop\n",
    "        trainer = Trainer(\n",
    "            model=model,\n",
    "            settings=settings,\n",
    "            loss_fn=loss_fn,\n",
    "            optimizer=optimizer,\n",
    "            traindataloader=trainstreamer,\n",
    "            validdataloader=validstreamer,\n",
    "            scheduler=optim.lr_scheduler.ReduceLROnPlateau,\n",
    "            device=device,\n",
    "        )\n",
    "        trainer.loop()\n",
    "\n",
    "        # Save the trained model with a timestamp\n",
    "        tag = datetime.now().strftime(\"%Y%m%d-%H%M\")\n",
    "        modelpath = modeldir / (tag + \"model.pt\")\n",
    "        torch.save(model, modelpath)\n",
    "\n",
    "        # Log the saved model as an artifact in MLflow\n",
    "        mlflow.log_artifact(local_path=modelpath, artifact_path=\"pytorch_models\")\n",
    "        return {'loss' : trainer.test_loss, 'status': STATUS_OK}"
   ]
  },
  {
   "cell_type": "code",
   "execution_count": 15,
   "metadata": {},
   "outputs": [],
   "source": [
    "search_space = {\n",
    "    'filters' : scope.int(hp.quniform('filters', 16, 128, 8)),\n",
    "    'units1' : scope.int(hp.quniform('units1', 32, 128, 8)),\n",
    "    'units2' : scope.int(hp.quniform('units2', 32, 128, 8)),\n",
    "}"
   ]
  },
  {
   "attachments": {},
   "cell_type": "markdown",
   "metadata": {},
   "source": [
    "We define a search space for hyperparameter optimization using Hyperopt. The search space specifies the range and distribution of hyperparameters to explore during the optimization process. This is crucial for finding the optimal set of hyperparameters that yield the best performance for the machine learning model. The search space defined here includes the number of filters in the convolutional layers, and the number of units in two fully connected layers, allowing Hyperopt to find the best combination within the given ranges.\n",
    "\n",
    "\n",
    "Now, finally, let us perform the hyperparameter search using the fmin function from hyperopt. The function takes the following arguments:\n",
    "\n",
    "- `fn=objective`: The objective function to minimize, which is defined earlier to train the model and return the test loss.\n",
    "- `space=search_space`: The search space defined earlier, containing the range of hyperparameters to explore.\n",
    "- `algo=tpe.suggest`: The optimization algorithm to use, in this case, the Tree-structured Parzen Estimator (TPE) method.\n",
    "- `max_evals=10`: The maximum number of function evaluations, i.e., the maximum number of hyperparameter combinations to try.\n",
    "- `trials=Trials()`: A Trials object to store the results of each evaluation.\n",
    "\n",
    "The fmin function searches for the best hyperparameters within the given search space using the TPE algorithm, aiming to minimize the objective function (test loss). Once the optimization process is completed, the best hyperparameters found are stored in the best_result variable."
   ]
  },
  {
   "cell_type": "code",
   "execution_count": 16,
   "metadata": {},
   "outputs": [
    {
     "name": "stdout",
     "output_type": "stream",
     "text": [
      "  0%|                                                                            | 0/3 [00:00<?, ?trial/s, best loss=?]"
     ]
    },
    {
     "name": "stderr",
     "output_type": "stream",
     "text": [
      "\u001b[32m2024-10-28 14:27:59.117\u001b[0m | \u001b[1mINFO    \u001b[0m | \u001b[36m__main__\u001b[0m:\u001b[36m__init__\u001b[0m:\u001b[36m22\u001b[0m - \u001b[1mAggregating activationmap with size torch.Size([2, 2])\u001b[0m\n",
      "\u001b[32m2024-10-28 14:27:59.119\u001b[0m | \u001b[1mINFO    \u001b[0m | \u001b[36mmltrainer.trainer\u001b[0m:\u001b[36mdir_add_timestamp\u001b[0m:\u001b[36m29\u001b[0m - \u001b[1mLogging to modellog\\20241028-142759\u001b[0m\n",
      "\u001b[32m2024-10-28 14:28:00.860\u001b[0m | \u001b[1mINFO    \u001b[0m | \u001b[36mmltrainer.trainer\u001b[0m:\u001b[36m__init__\u001b[0m:\u001b[36m70\u001b[0m - \u001b[1mFound earlystop_kwargs in settings.Set to None if you dont want earlystopping.\u001b[0m\n",
      "  0%|\u001b[38;2;30;71;6m                                                                                            \u001b[0m| 0/3 [00:00<?, ?it/s]\u001b[0m\n",
      "\u001b[A\n",
      "  0%|\u001b[38;2;30;71;6m                                                                                          \u001b[0m| 0/100 [00:00<?, ?it/s]\u001b[0m\n",
      "\u001b[A\u001b[A\n",
      "  1%|\u001b[38;2;30;71;6m8                                                                                 \u001b[0m| 1/100 [00:00<00:14,  6.99it/s]\u001b[0m\n",
      "\u001b[A\u001b[A\n",
      "  5%|\u001b[38;2;30;71;6m####1                                                                             \u001b[0m| 5/100 [00:00<00:04, 22.85it/s]\u001b[0m\n",
      "\u001b[A\u001b[A\n",
      "  9%|\u001b[38;2;30;71;6m#######3                                                                          \u001b[0m| 9/100 [00:00<00:03, 29.35it/s]\u001b[0m\n",
      "\u001b[A\u001b[A\n",
      " 13%|\u001b[38;2;30;71;6m##########5                                                                      \u001b[0m| 13/100 [00:00<00:02, 31.62it/s]\u001b[0m\n",
      "\u001b[A\u001b[A\n",
      " 17%|\u001b[38;2;30;71;6m#############7                                                                   \u001b[0m| 17/100 [00:00<00:02, 33.14it/s]\u001b[0m\n",
      "\u001b[A\u001b[A\n",
      " 21%|\u001b[38;2;30;71;6m#################                                                                \u001b[0m| 21/100 [00:00<00:02, 34.00it/s]\u001b[0m\n",
      "\u001b[A\u001b[A\n",
      " 25%|\u001b[38;2;30;71;6m####################2                                                            \u001b[0m| 25/100 [00:00<00:02, 34.86it/s]\u001b[0m\n",
      "\u001b[A\u001b[A\n",
      " 29%|\u001b[38;2;30;71;6m#######################4                                                         \u001b[0m| 29/100 [00:00<00:02, 35.33it/s]\u001b[0m\n",
      "\u001b[A\u001b[A\n",
      " 33%|\u001b[38;2;30;71;6m##########################7                                                      \u001b[0m| 33/100 [00:01<00:01, 36.05it/s]\u001b[0m\n",
      "\u001b[A\u001b[A\n",
      " 37%|\u001b[38;2;30;71;6m#############################9                                                   \u001b[0m| 37/100 [00:01<00:01, 36.35it/s]\u001b[0m\n",
      "\u001b[A\u001b[A\n",
      " 41%|\u001b[38;2;30;71;6m#################################2                                               \u001b[0m| 41/100 [00:01<00:01, 36.46it/s]\u001b[0m\n",
      "\u001b[A\u001b[A\n",
      " 45%|\u001b[38;2;30;71;6m####################################4                                            \u001b[0m| 45/100 [00:01<00:01, 36.23it/s]\u001b[0m\n",
      "\u001b[A\u001b[A\n",
      " 49%|\u001b[38;2;30;71;6m#######################################6                                         \u001b[0m| 49/100 [00:01<00:01, 36.06it/s]\u001b[0m\n",
      "\u001b[A\u001b[A\n",
      " 53%|\u001b[38;2;30;71;6m##########################################9                                      \u001b[0m| 53/100 [00:01<00:01, 36.40it/s]\u001b[0m\n",
      "\u001b[A\u001b[A\n",
      " 57%|\u001b[38;2;30;71;6m##############################################1                                  \u001b[0m| 57/100 [00:01<00:01, 36.48it/s]\u001b[0m\n",
      "\u001b[A\u001b[A\n",
      " 61%|\u001b[38;2;30;71;6m#################################################4                               \u001b[0m| 61/100 [00:01<00:01, 36.85it/s]\u001b[0m\n",
      "\u001b[A\u001b[A\n",
      " 65%|\u001b[38;2;30;71;6m####################################################6                            \u001b[0m| 65/100 [00:01<00:00, 36.79it/s]\u001b[0m\n",
      "\u001b[A\u001b[A\n",
      " 69%|\u001b[38;2;30;71;6m#######################################################8                         \u001b[0m| 69/100 [00:01<00:00, 36.98it/s]\u001b[0m\n",
      "\u001b[A\u001b[A\n",
      " 73%|\u001b[38;2;30;71;6m###########################################################1                     \u001b[0m| 73/100 [00:02<00:00, 37.17it/s]\u001b[0m\n",
      "\u001b[A\u001b[A\n",
      " 77%|\u001b[38;2;30;71;6m##############################################################3                  \u001b[0m| 77/100 [00:02<00:00, 37.31it/s]\u001b[0m\n",
      "\u001b[A\u001b[A\n",
      " 81%|\u001b[38;2;30;71;6m#################################################################6               \u001b[0m| 81/100 [00:02<00:00, 37.76it/s]\u001b[0m\n",
      "\u001b[A\u001b[A\n",
      " 85%|\u001b[38;2;30;71;6m####################################################################8            \u001b[0m| 85/100 [00:02<00:00, 37.74it/s]\u001b[0m\n",
      "\u001b[A\u001b[A\n",
      " 89%|\u001b[38;2;30;71;6m########################################################################         \u001b[0m| 89/100 [00:02<00:00, 36.89it/s]\u001b[0m\n",
      "\u001b[A\u001b[A\n",
      " 93%|\u001b[38;2;30;71;6m###########################################################################3     \u001b[0m| 93/100 [00:02<00:00, 36.73it/s]\u001b[0m\n",
      "\u001b[A\u001b[A\n",
      " 97%|\u001b[38;2;30;71;6m##############################################################################5  \u001b[0m| 97/100 [00:02<00:00, 35.82it/s]\u001b[0m\n",
      "\u001b[A\u001b[A\n",
      "100%|\u001b[38;2;30;71;6m################################################################################\u001b[0m| 100/100 [00:02<00:00, 35.22it/s]\u001b[0m\n",
      "\u001b[32m2024-10-28 14:28:04.908\u001b[0m | \u001b[1mINFO    \u001b[0m | \u001b[36mmltrainer.trainer\u001b[0m:\u001b[36mreport\u001b[0m:\u001b[36m189\u001b[0m - \u001b[1mEpoch 0 train 1.7517 test 1.2425 metric ['0.5045']\u001b[0m\n",
      " 33%|\u001b[38;2;30;71;6m############################                                                        \u001b[0m| 1/3 [00:04<00:08,  4.04s/it]\u001b[0m\n",
      "\u001b[A\n",
      "  0%|\u001b[38;2;30;71;6m                                                                                          \u001b[0m| 0/100 [00:00<?, ?it/s]\u001b[0m\n",
      "\u001b[A\u001b[A\n",
      "  4%|\u001b[38;2;30;71;6m###2                                                                              \u001b[0m| 4/100 [00:00<00:02, 36.03it/s]\u001b[0m\n",
      "\u001b[A\u001b[A\n",
      "  8%|\u001b[38;2;30;71;6m######5                                                                           \u001b[0m| 8/100 [00:00<00:02, 36.54it/s]\u001b[0m\n",
      "\u001b[A\u001b[A\n",
      " 12%|\u001b[38;2;30;71;6m#########7                                                                       \u001b[0m| 12/100 [00:00<00:02, 37.51it/s]\u001b[0m\n",
      "\u001b[A\u001b[A\n",
      " 16%|\u001b[38;2;30;71;6m############9                                                                    \u001b[0m| 16/100 [00:00<00:02, 37.07it/s]\u001b[0m\n",
      "\u001b[A\u001b[A\n",
      " 20%|\u001b[38;2;30;71;6m################2                                                                \u001b[0m| 20/100 [00:00<00:02, 37.16it/s]\u001b[0m\n",
      "\u001b[A\u001b[A\n",
      " 24%|\u001b[38;2;30;71;6m###################4                                                             \u001b[0m| 24/100 [00:00<00:02, 36.63it/s]\u001b[0m\n",
      "\u001b[A\u001b[A\n",
      " 28%|\u001b[38;2;30;71;6m######################6                                                          \u001b[0m| 28/100 [00:00<00:01, 37.28it/s]\u001b[0m\n",
      "\u001b[A\u001b[A\n",
      " 32%|\u001b[38;2;30;71;6m#########################9                                                       \u001b[0m| 32/100 [00:00<00:01, 37.43it/s]\u001b[0m\n",
      "\u001b[A\u001b[A\n",
      " 36%|\u001b[38;2;30;71;6m#############################1                                                   \u001b[0m| 36/100 [00:00<00:01, 37.46it/s]\u001b[0m\n",
      "\u001b[A\u001b[A\n",
      " 40%|\u001b[38;2;30;71;6m################################4                                                \u001b[0m| 40/100 [00:01<00:01, 36.59it/s]\u001b[0m\n",
      "\u001b[A\u001b[A\n",
      " 44%|\u001b[38;2;30;71;6m###################################6                                             \u001b[0m| 44/100 [00:01<00:01, 37.04it/s]\u001b[0m\n",
      "\u001b[A\u001b[A\n",
      " 48%|\u001b[38;2;30;71;6m######################################8                                          \u001b[0m| 48/100 [00:01<00:01, 37.32it/s]\u001b[0m\n",
      "\u001b[A\u001b[A\n",
      " 52%|\u001b[38;2;30;71;6m##########################################1                                      \u001b[0m| 52/100 [00:01<00:01, 37.13it/s]\u001b[0m\n",
      "\u001b[A\u001b[A\n",
      " 56%|\u001b[38;2;30;71;6m#############################################3                                   \u001b[0m| 56/100 [00:01<00:01, 37.41it/s]\u001b[0m\n",
      "\u001b[A\u001b[A\n",
      " 60%|\u001b[38;2;30;71;6m################################################6                                \u001b[0m| 60/100 [00:01<00:01, 35.37it/s]\u001b[0m\n",
      "\u001b[A\u001b[A\n",
      " 64%|\u001b[38;2;30;71;6m###################################################8                             \u001b[0m| 64/100 [00:01<00:01, 33.96it/s]\u001b[0m\n",
      "\u001b[A\u001b[A\n",
      " 69%|\u001b[38;2;30;71;6m#######################################################8                         \u001b[0m| 69/100 [00:01<00:00, 35.95it/s]\u001b[0m\n",
      "\u001b[A\u001b[A\n",
      " 73%|\u001b[38;2;30;71;6m###########################################################1                     \u001b[0m| 73/100 [00:01<00:00, 36.18it/s]\u001b[0m\n",
      "\u001b[A\u001b[A\n",
      " 77%|\u001b[38;2;30;71;6m##############################################################3                  \u001b[0m| 77/100 [00:02<00:00, 36.20it/s]\u001b[0m\n",
      "\u001b[A\u001b[A\n",
      " 81%|\u001b[38;2;30;71;6m#################################################################6               \u001b[0m| 81/100 [00:02<00:00, 36.91it/s]\u001b[0m\n",
      "\u001b[A\u001b[A\n",
      " 85%|\u001b[38;2;30;71;6m####################################################################8            \u001b[0m| 85/100 [00:02<00:00, 37.02it/s]\u001b[0m\n",
      "\u001b[A\u001b[A\n",
      " 89%|\u001b[38;2;30;71;6m########################################################################         \u001b[0m| 89/100 [00:02<00:00, 37.01it/s]\u001b[0m\n",
      "\u001b[A\u001b[A\n",
      " 93%|\u001b[38;2;30;71;6m###########################################################################3     \u001b[0m| 93/100 [00:02<00:00, 36.92it/s]\u001b[0m\n",
      "\u001b[A\u001b[A\n",
      " 97%|\u001b[38;2;30;71;6m##############################################################################5  \u001b[0m| 97/100 [00:02<00:00, 36.74it/s]\u001b[0m\n",
      "\u001b[A\u001b[A\n",
      "100%|\u001b[38;2;30;71;6m################################################################################\u001b[0m| 100/100 [00:02<00:00, 36.74it/s]\u001b[0m\n",
      "\u001b[32m2024-10-28 14:28:08.859\u001b[0m | \u001b[1mINFO    \u001b[0m | \u001b[36mmltrainer.trainer\u001b[0m:\u001b[36mreport\u001b[0m:\u001b[36m189\u001b[0m - \u001b[1mEpoch 1 train 0.9933 test 0.8977 metric ['0.6759']\u001b[0m\n",
      " 67%|\u001b[38;2;30;71;6m########################################################                            \u001b[0m| 2/3 [00:07<00:03,  3.99s/it]\u001b[0m\n",
      "\u001b[A\n",
      "  0%|\u001b[38;2;30;71;6m                                                                                          \u001b[0m| 0/100 [00:00<?, ?it/s]\u001b[0m\n",
      "\u001b[A\u001b[A\n",
      "  4%|\u001b[38;2;30;71;6m###2                                                                              \u001b[0m| 4/100 [00:00<00:02, 35.67it/s]\u001b[0m\n",
      "\u001b[A\u001b[A\n",
      "  8%|\u001b[38;2;30;71;6m######5                                                                           \u001b[0m| 8/100 [00:00<00:02, 36.80it/s]\u001b[0m\n",
      "\u001b[A\u001b[A\n",
      " 12%|\u001b[38;2;30;71;6m#########7                                                                       \u001b[0m| 12/100 [00:00<00:02, 36.87it/s]\u001b[0m\n",
      "\u001b[A\u001b[A\n",
      " 16%|\u001b[38;2;30;71;6m############9                                                                    \u001b[0m| 16/100 [00:00<00:02, 35.72it/s]\u001b[0m\n",
      "\u001b[A\u001b[A\n",
      " 20%|\u001b[38;2;30;71;6m################2                                                                \u001b[0m| 20/100 [00:00<00:02, 36.82it/s]\u001b[0m\n",
      "\u001b[A\u001b[A\n",
      " 24%|\u001b[38;2;30;71;6m###################4                                                             \u001b[0m| 24/100 [00:00<00:02, 37.06it/s]\u001b[0m\n",
      "\u001b[A\u001b[A\n",
      " 28%|\u001b[38;2;30;71;6m######################6                                                          \u001b[0m| 28/100 [00:00<00:01, 36.57it/s]\u001b[0m\n",
      "\u001b[A\u001b[A\n",
      " 32%|\u001b[38;2;30;71;6m#########################9                                                       \u001b[0m| 32/100 [00:00<00:01, 36.66it/s]\u001b[0m\n",
      "\u001b[A\u001b[A\n",
      " 36%|\u001b[38;2;30;71;6m#############################1                                                   \u001b[0m| 36/100 [00:00<00:01, 37.34it/s]\u001b[0m\n",
      "\u001b[A\u001b[A\n",
      " 40%|\u001b[38;2;30;71;6m################################4                                                \u001b[0m| 40/100 [00:01<00:01, 37.57it/s]\u001b[0m\n",
      "\u001b[A\u001b[A\n",
      " 44%|\u001b[38;2;30;71;6m###################################6                                             \u001b[0m| 44/100 [00:01<00:01, 37.61it/s]\u001b[0m\n",
      "\u001b[A\u001b[A\n",
      " 48%|\u001b[38;2;30;71;6m######################################8                                          \u001b[0m| 48/100 [00:01<00:01, 36.94it/s]\u001b[0m\n",
      "\u001b[A\u001b[A\n",
      " 52%|\u001b[38;2;30;71;6m##########################################1                                      \u001b[0m| 52/100 [00:01<00:01, 36.86it/s]\u001b[0m\n",
      "\u001b[A\u001b[A\n",
      " 56%|\u001b[38;2;30;71;6m#############################################3                                   \u001b[0m| 56/100 [00:01<00:01, 36.60it/s]\u001b[0m\n",
      "\u001b[A\u001b[A\n",
      " 60%|\u001b[38;2;30;71;6m################################################6                                \u001b[0m| 60/100 [00:01<00:01, 36.34it/s]\u001b[0m\n",
      "\u001b[A\u001b[A\n",
      " 64%|\u001b[38;2;30;71;6m###################################################8                             \u001b[0m| 64/100 [00:01<00:01, 35.18it/s]\u001b[0m\n",
      "\u001b[A\u001b[A\n",
      " 68%|\u001b[38;2;30;71;6m#######################################################                          \u001b[0m| 68/100 [00:01<00:00, 35.62it/s]\u001b[0m\n",
      "\u001b[A\u001b[A\n",
      " 72%|\u001b[38;2;30;71;6m##########################################################3                      \u001b[0m| 72/100 [00:01<00:00, 35.54it/s]\u001b[0m\n",
      "\u001b[A\u001b[A\n",
      " 76%|\u001b[38;2;30;71;6m#############################################################5                   \u001b[0m| 76/100 [00:02<00:00, 35.50it/s]\u001b[0m\n",
      "\u001b[A\u001b[A\n",
      " 80%|\u001b[38;2;30;71;6m################################################################8                \u001b[0m| 80/100 [00:02<00:00, 35.85it/s]\u001b[0m\n",
      "\u001b[A\u001b[A\n",
      " 84%|\u001b[38;2;30;71;6m####################################################################             \u001b[0m| 84/100 [00:02<00:00, 35.61it/s]\u001b[0m\n",
      "\u001b[A\u001b[A\n",
      " 88%|\u001b[38;2;30;71;6m#######################################################################2         \u001b[0m| 88/100 [00:02<00:00, 36.52it/s]\u001b[0m\n",
      "\u001b[A\u001b[A\n",
      " 92%|\u001b[38;2;30;71;6m##########################################################################5      \u001b[0m| 92/100 [00:02<00:00, 37.37it/s]\u001b[0m\n",
      "\u001b[A\u001b[A\n",
      " 96%|\u001b[38;2;30;71;6m#############################################################################7   \u001b[0m| 96/100 [00:02<00:00, 37.53it/s]\u001b[0m\n",
      "\u001b[A\u001b[A\n",
      "100%|\u001b[38;2;30;71;6m################################################################################\u001b[0m| 100/100 [00:02<00:00, 36.46it/s]\u001b[0m\n",
      "\u001b[A\u001b[A\n",
      "100%|\u001b[38;2;30;71;6m################################################################################\u001b[0m| 100/100 [00:02<00:00, 36.47it/s]\u001b[0m\n",
      "\u001b[32m2024-10-28 14:28:12.852\u001b[0m | \u001b[1mINFO    \u001b[0m | \u001b[36mmltrainer.trainer\u001b[0m:\u001b[36mreport\u001b[0m:\u001b[36m189\u001b[0m - \u001b[1mEpoch 2 train 0.8366 test 0.7880 metric ['0.7047']\u001b[0m\n",
      "100%|\u001b[38;2;30;71;6m####################################################################################\u001b[0m| 3/3 [00:11<00:00,  3.99s/it]\u001b[0m\n",
      "\u001b[A\n",
      "100%|\u001b[38;2;30;71;6m####################################################################################\u001b[0m| 3/3 [00:11<00:00,  4.00s/it]\u001b[0m\n"
     ]
    },
    {
     "name": "stdout",
     "output_type": "stream",
     "text": [
      " 33%|████████████████▋                                 | 1/3 [00:14<00:29, 14.57s/trial, best loss: 0.7880239206552505]"
     ]
    },
    {
     "name": "stderr",
     "output_type": "stream",
     "text": [
      "\u001b[32m2024-10-28 14:28:12.948\u001b[0m | \u001b[1mINFO    \u001b[0m | \u001b[36m__main__\u001b[0m:\u001b[36m__init__\u001b[0m:\u001b[36m22\u001b[0m - \u001b[1mAggregating activationmap with size torch.Size([2, 2])\u001b[0m\n",
      "\u001b[32m2024-10-28 14:28:12.951\u001b[0m | \u001b[1mINFO    \u001b[0m | \u001b[36mmltrainer.trainer\u001b[0m:\u001b[36mdir_add_timestamp\u001b[0m:\u001b[36m29\u001b[0m - \u001b[1mLogging to modellog\\20241028-142812\u001b[0m\n",
      "\u001b[32m2024-10-28 14:28:12.952\u001b[0m | \u001b[1mINFO    \u001b[0m | \u001b[36mmltrainer.trainer\u001b[0m:\u001b[36m__init__\u001b[0m:\u001b[36m70\u001b[0m - \u001b[1mFound earlystop_kwargs in settings.Set to None if you dont want earlystopping.\u001b[0m\n",
      "  0%|\u001b[38;2;30;71;6m                                                                                            \u001b[0m| 0/3 [00:00<?, ?it/s]\u001b[0m\n",
      "\u001b[A\n",
      "  0%|\u001b[38;2;30;71;6m                                                                                          \u001b[0m| 0/100 [00:00<?, ?it/s]\u001b[0m\n",
      "\u001b[A\u001b[A\n",
      "  6%|\u001b[38;2;30;71;6m####9                                                                             \u001b[0m| 6/100 [00:00<00:01, 58.84it/s]\u001b[0m\n",
      "\u001b[A\u001b[A\n",
      " 13%|\u001b[38;2;30;71;6m##########5                                                                      \u001b[0m| 13/100 [00:00<00:01, 60.11it/s]\u001b[0m\n",
      "\u001b[A\u001b[A\n",
      " 20%|\u001b[38;2;30;71;6m################2                                                                \u001b[0m| 20/100 [00:00<00:01, 61.78it/s]\u001b[0m\n",
      "\u001b[A\u001b[A\n",
      " 27%|\u001b[38;2;30;71;6m#####################8                                                           \u001b[0m| 27/100 [00:00<00:01, 63.27it/s]\u001b[0m\n",
      "\u001b[A\u001b[A\n",
      " 34%|\u001b[38;2;30;71;6m###########################5                                                     \u001b[0m| 34/100 [00:00<00:01, 63.32it/s]\u001b[0m\n",
      "\u001b[A\u001b[A\n",
      " 41%|\u001b[38;2;30;71;6m#################################2                                               \u001b[0m| 41/100 [00:00<00:00, 63.35it/s]\u001b[0m\n",
      "\u001b[A\u001b[A\n",
      " 48%|\u001b[38;2;30;71;6m######################################8                                          \u001b[0m| 48/100 [00:00<00:00, 64.15it/s]\u001b[0m\n",
      "\u001b[A\u001b[A\n",
      " 55%|\u001b[38;2;30;71;6m############################################5                                    \u001b[0m| 55/100 [00:00<00:00, 64.55it/s]\u001b[0m\n",
      "\u001b[A\u001b[A\n",
      " 62%|\u001b[38;2;30;71;6m##################################################2                              \u001b[0m| 62/100 [00:00<00:00, 64.34it/s]\u001b[0m\n",
      "\u001b[A\u001b[A\n",
      " 69%|\u001b[38;2;30;71;6m#######################################################8                         \u001b[0m| 69/100 [00:01<00:00, 64.34it/s]\u001b[0m\n",
      "\u001b[A\u001b[A\n",
      " 77%|\u001b[38;2;30;71;6m##############################################################3                  \u001b[0m| 77/100 [00:01<00:00, 65.98it/s]\u001b[0m\n",
      "\u001b[A\u001b[A\n",
      " 84%|\u001b[38;2;30;71;6m####################################################################             \u001b[0m| 84/100 [00:01<00:00, 65.02it/s]\u001b[0m\n",
      "\u001b[A\u001b[A\n",
      " 91%|\u001b[38;2;30;71;6m#########################################################################7       \u001b[0m| 91/100 [00:01<00:00, 64.83it/s]\u001b[0m\n",
      "\u001b[A\u001b[A\n",
      " 98%|\u001b[38;2;30;71;6m###############################################################################3 \u001b[0m| 98/100 [00:01<00:00, 64.23it/s]\u001b[0m\n",
      "\u001b[A\u001b[A\n",
      "100%|\u001b[38;2;30;71;6m################################################################################\u001b[0m| 100/100 [00:01<00:00, 63.80it/s]\u001b[0m\n",
      "\u001b[32m2024-10-28 14:28:15.270\u001b[0m | \u001b[1mINFO    \u001b[0m | \u001b[36mmltrainer.trainer\u001b[0m:\u001b[36mreport\u001b[0m:\u001b[36m189\u001b[0m - \u001b[1mEpoch 0 train 1.7331 test 1.1210 metric ['0.5317']\u001b[0m\n",
      " 33%|\u001b[38;2;30;71;6m############################                                                        \u001b[0m| 1/3 [00:02<00:04,  2.32s/it]\u001b[0m\n",
      "\u001b[A\n",
      "  0%|\u001b[38;2;30;71;6m                                                                                          \u001b[0m| 0/100 [00:00<?, ?it/s]\u001b[0m\n",
      "\u001b[A\u001b[A\n",
      "  7%|\u001b[38;2;30;71;6m#####7                                                                            \u001b[0m| 7/100 [00:00<00:01, 65.39it/s]\u001b[0m\n",
      "\u001b[A\u001b[A\n",
      " 14%|\u001b[38;2;30;71;6m###########3                                                                     \u001b[0m| 14/100 [00:00<00:01, 63.80it/s]\u001b[0m\n",
      "\u001b[A\u001b[A\n",
      " 21%|\u001b[38;2;30;71;6m#################                                                                \u001b[0m| 21/100 [00:00<00:01, 61.43it/s]\u001b[0m\n",
      "\u001b[A\u001b[A\n",
      " 28%|\u001b[38;2;30;71;6m######################6                                                          \u001b[0m| 28/100 [00:00<00:01, 62.31it/s]\u001b[0m\n",
      "\u001b[A\u001b[A\n",
      " 35%|\u001b[38;2;30;71;6m############################3                                                    \u001b[0m| 35/100 [00:00<00:01, 61.92it/s]\u001b[0m\n",
      "\u001b[A\u001b[A\n",
      " 42%|\u001b[38;2;30;71;6m##################################                                               \u001b[0m| 42/100 [00:00<00:00, 62.97it/s]\u001b[0m\n",
      "\u001b[A\u001b[A\n",
      " 49%|\u001b[38;2;30;71;6m#######################################6                                         \u001b[0m| 49/100 [00:00<00:00, 61.50it/s]\u001b[0m\n",
      "\u001b[A\u001b[A\n",
      " 56%|\u001b[38;2;30;71;6m#############################################3                                   \u001b[0m| 56/100 [00:00<00:00, 59.48it/s]\u001b[0m\n",
      "\u001b[A\u001b[A\n",
      " 63%|\u001b[38;2;30;71;6m###################################################                              \u001b[0m| 63/100 [00:01<00:00, 60.93it/s]\u001b[0m\n",
      "\u001b[A\u001b[A\n",
      " 70%|\u001b[38;2;30;71;6m########################################################7                        \u001b[0m| 70/100 [00:01<00:00, 62.40it/s]\u001b[0m\n",
      "\u001b[A\u001b[A\n",
      " 77%|\u001b[38;2;30;71;6m##############################################################3                  \u001b[0m| 77/100 [00:01<00:00, 64.18it/s]\u001b[0m\n",
      "\u001b[A\u001b[A\n",
      " 84%|\u001b[38;2;30;71;6m####################################################################             \u001b[0m| 84/100 [00:01<00:00, 65.65it/s]\u001b[0m\n",
      "\u001b[A\u001b[A\n",
      " 91%|\u001b[38;2;30;71;6m#########################################################################7       \u001b[0m| 91/100 [00:01<00:00, 64.73it/s]\u001b[0m\n",
      "\u001b[A\u001b[A\n",
      " 98%|\u001b[38;2;30;71;6m###############################################################################3 \u001b[0m| 98/100 [00:01<00:00, 65.57it/s]\u001b[0m\n",
      "\u001b[A\u001b[A\n",
      "100%|\u001b[38;2;30;71;6m################################################################################\u001b[0m| 100/100 [00:01<00:00, 63.28it/s]\u001b[0m\n",
      "\u001b[32m2024-10-28 14:28:17.605\u001b[0m | \u001b[1mINFO    \u001b[0m | \u001b[36mmltrainer.trainer\u001b[0m:\u001b[36mreport\u001b[0m:\u001b[36m189\u001b[0m - \u001b[1mEpoch 1 train 0.9904 test 0.8829 metric ['0.6928']\u001b[0m\n",
      " 67%|\u001b[38;2;30;71;6m########################################################                            \u001b[0m| 2/3 [00:04<00:02,  2.33s/it]\u001b[0m\n",
      "\u001b[A\n",
      "  0%|\u001b[38;2;30;71;6m                                                                                          \u001b[0m| 0/100 [00:00<?, ?it/s]\u001b[0m\n",
      "\u001b[A\u001b[A\n",
      "  6%|\u001b[38;2;30;71;6m####9                                                                             \u001b[0m| 6/100 [00:00<00:01, 58.69it/s]\u001b[0m\n",
      "\u001b[A\u001b[A\n",
      " 12%|\u001b[38;2;30;71;6m#########7                                                                       \u001b[0m| 12/100 [00:00<00:01, 58.43it/s]\u001b[0m\n",
      "\u001b[A\u001b[A\n",
      " 19%|\u001b[38;2;30;71;6m###############3                                                                 \u001b[0m| 19/100 [00:00<00:01, 62.28it/s]\u001b[0m\n",
      "\u001b[A\u001b[A\n",
      " 26%|\u001b[38;2;30;71;6m#####################                                                            \u001b[0m| 26/100 [00:00<00:01, 64.07it/s]\u001b[0m\n",
      "\u001b[A\u001b[A\n",
      " 33%|\u001b[38;2;30;71;6m##########################7                                                      \u001b[0m| 33/100 [00:00<00:01, 64.24it/s]\u001b[0m\n",
      "\u001b[A\u001b[A\n",
      " 40%|\u001b[38;2;30;71;6m################################4                                                \u001b[0m| 40/100 [00:00<00:00, 63.80it/s]\u001b[0m\n",
      "\u001b[A\u001b[A\n",
      " 47%|\u001b[38;2;30;71;6m######################################                                           \u001b[0m| 47/100 [00:00<00:00, 64.05it/s]\u001b[0m\n",
      "\u001b[A\u001b[A\n",
      " 54%|\u001b[38;2;30;71;6m###########################################7                                     \u001b[0m| 54/100 [00:00<00:00, 63.01it/s]\u001b[0m\n",
      "\u001b[A\u001b[A\n",
      " 61%|\u001b[38;2;30;71;6m#################################################4                               \u001b[0m| 61/100 [00:00<00:00, 64.50it/s]\u001b[0m\n",
      "\u001b[A\u001b[A\n",
      " 68%|\u001b[38;2;30;71;6m#######################################################                          \u001b[0m| 68/100 [00:01<00:00, 64.97it/s]\u001b[0m\n",
      "\u001b[A\u001b[A\n",
      " 75%|\u001b[38;2;30;71;6m############################################################7                    \u001b[0m| 75/100 [00:01<00:00, 65.36it/s]\u001b[0m\n",
      "\u001b[A\u001b[A\n",
      " 82%|\u001b[38;2;30;71;6m##################################################################4              \u001b[0m| 82/100 [00:01<00:00, 64.06it/s]\u001b[0m\n",
      "\u001b[A\u001b[A\n",
      " 89%|\u001b[38;2;30;71;6m########################################################################         \u001b[0m| 89/100 [00:01<00:00, 64.02it/s]\u001b[0m\n",
      "\u001b[A\u001b[A\n",
      " 96%|\u001b[38;2;30;71;6m#############################################################################7   \u001b[0m| 96/100 [00:01<00:00, 65.46it/s]\u001b[0m\n",
      "\u001b[A\u001b[A\n",
      "100%|\u001b[38;2;30;71;6m################################################################################\u001b[0m| 100/100 [00:01<00:00, 64.10it/s]\u001b[0m\n",
      "\u001b[32m2024-10-28 14:28:19.945\u001b[0m | \u001b[1mINFO    \u001b[0m | \u001b[36mmltrainer.trainer\u001b[0m:\u001b[36mreport\u001b[0m:\u001b[36m189\u001b[0m - \u001b[1mEpoch 2 train 0.8016 test 0.7505 metric ['0.7239']\u001b[0m\n",
      "100%|\u001b[38;2;30;71;6m####################################################################################\u001b[0m| 3/3 [00:06<00:00,  2.33s/it]\u001b[0m\n",
      "\u001b[A\n",
      "100%|\u001b[38;2;30;71;6m####################################################################################\u001b[0m| 3/3 [00:06<00:00,  2.33s/it]\u001b[0m\n"
     ]
    },
    {
     "name": "stdout",
     "output_type": "stream",
     "text": [
      " 67%|█████████████████████████████████▎                | 2/3 [00:21<00:10, 10.16s/trial, best loss: 0.7505279192328453]"
     ]
    },
    {
     "name": "stderr",
     "output_type": "stream",
     "text": [
      "\u001b[32m2024-10-28 14:28:20.023\u001b[0m | \u001b[1mINFO    \u001b[0m | \u001b[36m__main__\u001b[0m:\u001b[36m__init__\u001b[0m:\u001b[36m22\u001b[0m - \u001b[1mAggregating activationmap with size torch.Size([2, 2])\u001b[0m\n",
      "\u001b[32m2024-10-28 14:28:20.025\u001b[0m | \u001b[1mINFO    \u001b[0m | \u001b[36mmltrainer.trainer\u001b[0m:\u001b[36mdir_add_timestamp\u001b[0m:\u001b[36m29\u001b[0m - \u001b[1mLogging to modellog\\20241028-142820\u001b[0m\n",
      "\u001b[32m2024-10-28 14:28:20.026\u001b[0m | \u001b[1mINFO    \u001b[0m | \u001b[36mmltrainer.trainer\u001b[0m:\u001b[36m__init__\u001b[0m:\u001b[36m70\u001b[0m - \u001b[1mFound earlystop_kwargs in settings.Set to None if you dont want earlystopping.\u001b[0m\n",
      "  0%|\u001b[38;2;30;71;6m                                                                                            \u001b[0m| 0/3 [00:00<?, ?it/s]\u001b[0m\n",
      "\u001b[A\n",
      "  0%|\u001b[38;2;30;71;6m                                                                                          \u001b[0m| 0/100 [00:00<?, ?it/s]\u001b[0m\n",
      "\u001b[A\u001b[A\n",
      "  3%|\u001b[38;2;30;71;6m##4                                                                               \u001b[0m| 3/100 [00:00<00:03, 24.96it/s]\u001b[0m\n",
      "\u001b[A\u001b[A\n",
      "  6%|\u001b[38;2;30;71;6m####9                                                                             \u001b[0m| 6/100 [00:00<00:03, 25.80it/s]\u001b[0m\n",
      "\u001b[A\u001b[A\n",
      "  9%|\u001b[38;2;30;71;6m#######3                                                                          \u001b[0m| 9/100 [00:00<00:03, 26.53it/s]\u001b[0m\n",
      "\u001b[A\u001b[A\n",
      " 12%|\u001b[38;2;30;71;6m#########7                                                                       \u001b[0m| 12/100 [00:00<00:03, 26.51it/s]\u001b[0m\n",
      "\u001b[A\u001b[A\n",
      " 15%|\u001b[38;2;30;71;6m############1                                                                    \u001b[0m| 15/100 [00:00<00:03, 26.86it/s]\u001b[0m\n",
      "\u001b[A\u001b[A\n",
      " 18%|\u001b[38;2;30;71;6m##############5                                                                  \u001b[0m| 18/100 [00:00<00:03, 26.55it/s]\u001b[0m\n",
      "\u001b[A\u001b[A\n",
      " 21%|\u001b[38;2;30;71;6m#################                                                                \u001b[0m| 21/100 [00:00<00:02, 26.44it/s]\u001b[0m\n",
      "\u001b[A\u001b[A\n",
      " 24%|\u001b[38;2;30;71;6m###################4                                                             \u001b[0m| 24/100 [00:00<00:02, 26.75it/s]\u001b[0m\n",
      "\u001b[A\u001b[A\n",
      " 27%|\u001b[38;2;30;71;6m#####################8                                                           \u001b[0m| 27/100 [00:01<00:02, 27.14it/s]\u001b[0m\n",
      "\u001b[A\u001b[A\n",
      " 30%|\u001b[38;2;30;71;6m########################3                                                        \u001b[0m| 30/100 [00:01<00:02, 27.21it/s]\u001b[0m\n",
      "\u001b[A\u001b[A\n",
      " 33%|\u001b[38;2;30;71;6m##########################7                                                      \u001b[0m| 33/100 [00:01<00:02, 27.57it/s]\u001b[0m\n",
      "\u001b[A\u001b[A\n",
      " 36%|\u001b[38;2;30;71;6m#############################1                                                   \u001b[0m| 36/100 [00:01<00:02, 27.49it/s]\u001b[0m\n",
      "\u001b[A\u001b[A\n",
      " 39%|\u001b[38;2;30;71;6m###############################5                                                 \u001b[0m| 39/100 [00:01<00:02, 27.13it/s]\u001b[0m\n",
      "\u001b[A\u001b[A\n",
      " 42%|\u001b[38;2;30;71;6m##################################                                               \u001b[0m| 42/100 [00:01<00:02, 27.51it/s]\u001b[0m\n",
      "\u001b[A\u001b[A\n",
      " 45%|\u001b[38;2;30;71;6m####################################4                                            \u001b[0m| 45/100 [00:01<00:01, 27.51it/s]\u001b[0m\n",
      "\u001b[A\u001b[A\n",
      " 48%|\u001b[38;2;30;71;6m######################################8                                          \u001b[0m| 48/100 [00:01<00:01, 27.03it/s]\u001b[0m\n",
      "\u001b[A\u001b[A\n",
      " 51%|\u001b[38;2;30;71;6m#########################################3                                       \u001b[0m| 51/100 [00:01<00:01, 27.37it/s]\u001b[0m\n",
      "\u001b[A\u001b[A\n",
      " 54%|\u001b[38;2;30;71;6m###########################################7                                     \u001b[0m| 54/100 [00:01<00:01, 27.42it/s]\u001b[0m\n",
      "\u001b[A\u001b[A\n",
      " 57%|\u001b[38;2;30;71;6m##############################################1                                  \u001b[0m| 57/100 [00:02<00:01, 27.75it/s]\u001b[0m\n",
      "\u001b[A\u001b[A\n",
      " 60%|\u001b[38;2;30;71;6m################################################6                                \u001b[0m| 60/100 [00:02<00:01, 27.90it/s]\u001b[0m\n",
      "\u001b[A\u001b[A\n",
      " 63%|\u001b[38;2;30;71;6m###################################################                              \u001b[0m| 63/100 [00:02<00:01, 27.40it/s]\u001b[0m\n",
      "\u001b[A\u001b[A\n",
      " 66%|\u001b[38;2;30;71;6m#####################################################4                           \u001b[0m| 66/100 [00:02<00:01, 26.96it/s]\u001b[0m\n",
      "\u001b[A\u001b[A\n",
      " 69%|\u001b[38;2;30;71;6m#######################################################8                         \u001b[0m| 69/100 [00:02<00:01, 26.66it/s]\u001b[0m\n",
      "\u001b[A\u001b[A\n",
      " 72%|\u001b[38;2;30;71;6m##########################################################3                      \u001b[0m| 72/100 [00:02<00:01, 26.99it/s]\u001b[0m\n",
      "\u001b[A\u001b[A\n",
      " 75%|\u001b[38;2;30;71;6m############################################################7                    \u001b[0m| 75/100 [00:02<00:00, 26.52it/s]\u001b[0m\n",
      "\u001b[A\u001b[A\n",
      " 78%|\u001b[38;2;30;71;6m###############################################################1                 \u001b[0m| 78/100 [00:02<00:00, 27.45it/s]\u001b[0m\n",
      "\u001b[A\u001b[A\n",
      " 81%|\u001b[38;2;30;71;6m#################################################################6               \u001b[0m| 81/100 [00:02<00:00, 27.09it/s]\u001b[0m\n",
      "\u001b[A\u001b[A\n",
      " 84%|\u001b[38;2;30;71;6m####################################################################             \u001b[0m| 84/100 [00:03<00:00, 27.27it/s]\u001b[0m\n",
      "\u001b[A\u001b[A\n",
      " 87%|\u001b[38;2;30;71;6m######################################################################4          \u001b[0m| 87/100 [00:03<00:00, 26.86it/s]\u001b[0m\n",
      "\u001b[A\u001b[A\n",
      " 90%|\u001b[38;2;30;71;6m########################################################################9        \u001b[0m| 90/100 [00:03<00:00, 26.83it/s]\u001b[0m\n",
      "\u001b[A\u001b[A\n",
      " 93%|\u001b[38;2;30;71;6m###########################################################################3     \u001b[0m| 93/100 [00:03<00:00, 26.58it/s]\u001b[0m\n",
      "\u001b[A\u001b[A\n",
      " 96%|\u001b[38;2;30;71;6m#############################################################################7   \u001b[0m| 96/100 [00:03<00:00, 27.06it/s]\u001b[0m\n",
      "\u001b[A\u001b[A\n",
      " 99%|\u001b[38;2;30;71;6m################################################################################1\u001b[0m| 99/100 [00:03<00:00, 27.05it/s]\u001b[0m\n",
      "\u001b[A\u001b[A\n",
      "100%|\u001b[38;2;30;71;6m################################################################################\u001b[0m| 100/100 [00:03<00:00, 27.01it/s]\u001b[0m\n",
      "\u001b[32m2024-10-28 14:28:25.295\u001b[0m | \u001b[1mINFO    \u001b[0m | \u001b[36mmltrainer.trainer\u001b[0m:\u001b[36mreport\u001b[0m:\u001b[36m189\u001b[0m - \u001b[1mEpoch 0 train 1.4539 test 0.9350 metric ['0.6375']\u001b[0m\n",
      " 33%|\u001b[38;2;30;71;6m############################                                                        \u001b[0m| 1/3 [00:05<00:10,  5.27s/it]\u001b[0m\n",
      "\u001b[A\n",
      "  0%|\u001b[38;2;30;71;6m                                                                                          \u001b[0m| 0/100 [00:00<?, ?it/s]\u001b[0m\n",
      "\u001b[A\u001b[A\n",
      "  3%|\u001b[38;2;30;71;6m##4                                                                               \u001b[0m| 3/100 [00:00<00:03, 26.22it/s]\u001b[0m\n",
      "\u001b[A\u001b[A\n",
      "  6%|\u001b[38;2;30;71;6m####9                                                                             \u001b[0m| 6/100 [00:00<00:03, 26.46it/s]\u001b[0m\n",
      "\u001b[A\u001b[A\n",
      "  9%|\u001b[38;2;30;71;6m#######3                                                                          \u001b[0m| 9/100 [00:00<00:03, 27.33it/s]\u001b[0m\n",
      "\u001b[A\u001b[A\n",
      " 12%|\u001b[38;2;30;71;6m#########7                                                                       \u001b[0m| 12/100 [00:00<00:03, 26.98it/s]\u001b[0m\n",
      "\u001b[A\u001b[A\n",
      " 15%|\u001b[38;2;30;71;6m############1                                                                    \u001b[0m| 15/100 [00:00<00:03, 27.32it/s]\u001b[0m\n",
      "\u001b[A\u001b[A\n",
      " 18%|\u001b[38;2;30;71;6m##############5                                                                  \u001b[0m| 18/100 [00:00<00:03, 26.93it/s]\u001b[0m\n",
      "\u001b[A\u001b[A\n",
      " 21%|\u001b[38;2;30;71;6m#################                                                                \u001b[0m| 21/100 [00:00<00:02, 26.74it/s]\u001b[0m\n",
      "\u001b[A\u001b[A\n",
      " 24%|\u001b[38;2;30;71;6m###################4                                                             \u001b[0m| 24/100 [00:00<00:02, 26.98it/s]\u001b[0m\n",
      "\u001b[A\u001b[A\n",
      " 27%|\u001b[38;2;30;71;6m#####################8                                                           \u001b[0m| 27/100 [00:01<00:02, 26.79it/s]\u001b[0m\n",
      "\u001b[A\u001b[A\n",
      " 30%|\u001b[38;2;30;71;6m########################3                                                        \u001b[0m| 30/100 [00:01<00:02, 26.84it/s]\u001b[0m\n",
      "\u001b[A\u001b[A\n",
      " 33%|\u001b[38;2;30;71;6m##########################7                                                      \u001b[0m| 33/100 [00:01<00:02, 26.82it/s]\u001b[0m\n",
      "\u001b[A\u001b[A\n",
      " 36%|\u001b[38;2;30;71;6m#############################1                                                   \u001b[0m| 36/100 [00:01<00:02, 27.05it/s]\u001b[0m\n",
      "\u001b[A\u001b[A\n",
      " 39%|\u001b[38;2;30;71;6m###############################5                                                 \u001b[0m| 39/100 [00:01<00:02, 26.01it/s]\u001b[0m\n",
      "\u001b[A\u001b[A\n",
      " 42%|\u001b[38;2;30;71;6m##################################                                               \u001b[0m| 42/100 [00:01<00:02, 25.84it/s]\u001b[0m\n",
      "\u001b[A\u001b[A\n",
      " 45%|\u001b[38;2;30;71;6m####################################4                                            \u001b[0m| 45/100 [00:01<00:02, 25.66it/s]\u001b[0m\n",
      "\u001b[A\u001b[A\n",
      " 48%|\u001b[38;2;30;71;6m######################################8                                          \u001b[0m| 48/100 [00:01<00:01, 26.12it/s]\u001b[0m\n",
      "\u001b[A\u001b[A\n",
      " 51%|\u001b[38;2;30;71;6m#########################################3                                       \u001b[0m| 51/100 [00:01<00:01, 26.66it/s]\u001b[0m\n",
      "\u001b[A\u001b[A\n",
      " 54%|\u001b[38;2;30;71;6m###########################################7                                     \u001b[0m| 54/100 [00:02<00:01, 26.30it/s]\u001b[0m\n",
      "\u001b[A\u001b[A\n",
      " 57%|\u001b[38;2;30;71;6m##############################################1                                  \u001b[0m| 57/100 [00:02<00:01, 26.15it/s]\u001b[0m\n",
      "\u001b[A\u001b[A\n",
      " 60%|\u001b[38;2;30;71;6m################################################6                                \u001b[0m| 60/100 [00:02<00:01, 26.31it/s]\u001b[0m\n",
      "\u001b[A\u001b[A\n",
      " 63%|\u001b[38;2;30;71;6m###################################################                              \u001b[0m| 63/100 [00:02<00:01, 26.20it/s]\u001b[0m\n",
      "\u001b[A\u001b[A\n",
      " 66%|\u001b[38;2;30;71;6m#####################################################4                           \u001b[0m| 66/100 [00:02<00:01, 26.34it/s]\u001b[0m\n",
      "\u001b[A\u001b[A\n",
      " 69%|\u001b[38;2;30;71;6m#######################################################8                         \u001b[0m| 69/100 [00:02<00:01, 26.72it/s]\u001b[0m\n",
      "\u001b[A\u001b[A\n",
      " 72%|\u001b[38;2;30;71;6m##########################################################3                      \u001b[0m| 72/100 [00:02<00:01, 26.63it/s]\u001b[0m\n",
      "\u001b[A\u001b[A\n",
      " 75%|\u001b[38;2;30;71;6m############################################################7                    \u001b[0m| 75/100 [00:02<00:00, 26.59it/s]\u001b[0m\n",
      "\u001b[A\u001b[A\n",
      " 78%|\u001b[38;2;30;71;6m###############################################################1                 \u001b[0m| 78/100 [00:02<00:00, 26.23it/s]\u001b[0m\n",
      "\u001b[A\u001b[A\n",
      " 81%|\u001b[38;2;30;71;6m#################################################################6               \u001b[0m| 81/100 [00:03<00:00, 26.29it/s]\u001b[0m\n",
      "\u001b[A\u001b[A\n",
      " 84%|\u001b[38;2;30;71;6m####################################################################             \u001b[0m| 84/100 [00:03<00:00, 26.23it/s]\u001b[0m\n",
      "\u001b[A\u001b[A\n",
      " 87%|\u001b[38;2;30;71;6m######################################################################4          \u001b[0m| 87/100 [00:03<00:00, 26.09it/s]\u001b[0m\n",
      "\u001b[A\u001b[A\n",
      " 90%|\u001b[38;2;30;71;6m########################################################################9        \u001b[0m| 90/100 [00:03<00:00, 26.70it/s]\u001b[0m\n",
      "\u001b[A\u001b[A\n",
      " 93%|\u001b[38;2;30;71;6m###########################################################################3     \u001b[0m| 93/100 [00:03<00:00, 26.28it/s]\u001b[0m\n",
      "\u001b[A\u001b[A\n",
      " 96%|\u001b[38;2;30;71;6m#############################################################################7   \u001b[0m| 96/100 [00:03<00:00, 26.50it/s]\u001b[0m\n",
      "\u001b[A\u001b[A\n",
      " 99%|\u001b[38;2;30;71;6m################################################################################1\u001b[0m| 99/100 [00:03<00:00, 27.12it/s]\u001b[0m\n",
      "\u001b[A\u001b[A\n",
      "100%|\u001b[38;2;30;71;6m################################################################################\u001b[0m| 100/100 [00:03<00:00, 26.50it/s]\u001b[0m\n",
      "\u001b[32m2024-10-28 14:28:30.671\u001b[0m | \u001b[1mINFO    \u001b[0m | \u001b[36mmltrainer.trainer\u001b[0m:\u001b[36mreport\u001b[0m:\u001b[36m189\u001b[0m - \u001b[1mEpoch 1 train 0.8662 test 0.7793 metric ['0.7175']\u001b[0m\n",
      " 67%|\u001b[38;2;30;71;6m########################################################                            \u001b[0m| 2/3 [00:10<00:05,  5.33s/it]\u001b[0m\n",
      "\u001b[A\n",
      "  0%|\u001b[38;2;30;71;6m                                                                                          \u001b[0m| 0/100 [00:00<?, ?it/s]\u001b[0m\n",
      "\u001b[A\u001b[A\n",
      "  3%|\u001b[38;2;30;71;6m##4                                                                               \u001b[0m| 3/100 [00:00<00:03, 27.02it/s]\u001b[0m\n",
      "\u001b[A\u001b[A\n",
      "  6%|\u001b[38;2;30;71;6m####9                                                                             \u001b[0m| 6/100 [00:00<00:03, 26.57it/s]\u001b[0m\n",
      "\u001b[A\u001b[A\n",
      "  9%|\u001b[38;2;30;71;6m#######3                                                                          \u001b[0m| 9/100 [00:00<00:03, 27.28it/s]\u001b[0m\n",
      "\u001b[A\u001b[A\n",
      " 12%|\u001b[38;2;30;71;6m#########7                                                                       \u001b[0m| 12/100 [00:00<00:03, 27.38it/s]\u001b[0m\n",
      "\u001b[A\u001b[A\n",
      " 15%|\u001b[38;2;30;71;6m############1                                                                    \u001b[0m| 15/100 [00:00<00:03, 27.58it/s]\u001b[0m\n",
      "\u001b[A\u001b[A\n",
      " 18%|\u001b[38;2;30;71;6m##############5                                                                  \u001b[0m| 18/100 [00:00<00:02, 27.43it/s]\u001b[0m\n",
      "\u001b[A\u001b[A\n",
      " 21%|\u001b[38;2;30;71;6m#################                                                                \u001b[0m| 21/100 [00:00<00:02, 27.52it/s]\u001b[0m\n",
      "\u001b[A\u001b[A\n",
      " 24%|\u001b[38;2;30;71;6m###################4                                                             \u001b[0m| 24/100 [00:00<00:02, 27.11it/s]\u001b[0m\n",
      "\u001b[A\u001b[A\n",
      " 27%|\u001b[38;2;30;71;6m#####################8                                                           \u001b[0m| 27/100 [00:00<00:02, 26.83it/s]\u001b[0m\n",
      "\u001b[A\u001b[A\n",
      " 30%|\u001b[38;2;30;71;6m########################3                                                        \u001b[0m| 30/100 [00:01<00:02, 27.36it/s]\u001b[0m\n",
      "\u001b[A\u001b[A\n",
      " 33%|\u001b[38;2;30;71;6m##########################7                                                      \u001b[0m| 33/100 [00:01<00:02, 27.41it/s]\u001b[0m\n",
      "\u001b[A\u001b[A\n",
      " 36%|\u001b[38;2;30;71;6m#############################1                                                   \u001b[0m| 36/100 [00:01<00:02, 26.83it/s]\u001b[0m\n",
      "\u001b[A\u001b[A\n",
      " 39%|\u001b[38;2;30;71;6m###############################5                                                 \u001b[0m| 39/100 [00:01<00:02, 26.51it/s]\u001b[0m\n",
      "\u001b[A\u001b[A\n",
      " 42%|\u001b[38;2;30;71;6m##################################                                               \u001b[0m| 42/100 [00:01<00:02, 26.60it/s]\u001b[0m\n",
      "\u001b[A\u001b[A\n",
      " 45%|\u001b[38;2;30;71;6m####################################4                                            \u001b[0m| 45/100 [00:01<00:02, 26.48it/s]\u001b[0m\n",
      "\u001b[A\u001b[A\n",
      " 48%|\u001b[38;2;30;71;6m######################################8                                          \u001b[0m| 48/100 [00:01<00:01, 26.93it/s]\u001b[0m\n",
      "\u001b[A\u001b[A\n",
      " 51%|\u001b[38;2;30;71;6m#########################################3                                       \u001b[0m| 51/100 [00:01<00:01, 27.06it/s]\u001b[0m\n",
      "\u001b[A\u001b[A\n",
      " 54%|\u001b[38;2;30;71;6m###########################################7                                     \u001b[0m| 54/100 [00:01<00:01, 27.26it/s]\u001b[0m\n",
      "\u001b[A\u001b[A\n",
      " 57%|\u001b[38;2;30;71;6m##############################################1                                  \u001b[0m| 57/100 [00:02<00:01, 27.15it/s]\u001b[0m\n",
      "\u001b[A\u001b[A\n",
      " 60%|\u001b[38;2;30;71;6m################################################6                                \u001b[0m| 60/100 [00:02<00:01, 26.68it/s]\u001b[0m\n",
      "\u001b[A\u001b[A\n",
      " 63%|\u001b[38;2;30;71;6m###################################################                              \u001b[0m| 63/100 [00:02<00:01, 25.86it/s]\u001b[0m\n",
      "\u001b[A\u001b[A\n",
      " 66%|\u001b[38;2;30;71;6m#####################################################4                           \u001b[0m| 66/100 [00:02<00:01, 26.47it/s]\u001b[0m\n",
      "\u001b[A\u001b[A\n",
      " 69%|\u001b[38;2;30;71;6m#######################################################8                         \u001b[0m| 69/100 [00:02<00:01, 26.01it/s]\u001b[0m\n",
      "\u001b[A\u001b[A\n",
      " 72%|\u001b[38;2;30;71;6m##########################################################3                      \u001b[0m| 72/100 [00:02<00:01, 26.50it/s]\u001b[0m\n",
      "\u001b[A\u001b[A\n",
      " 75%|\u001b[38;2;30;71;6m############################################################7                    \u001b[0m| 75/100 [00:02<00:00, 27.14it/s]\u001b[0m\n",
      "\u001b[A\u001b[A\n",
      " 78%|\u001b[38;2;30;71;6m###############################################################1                 \u001b[0m| 78/100 [00:02<00:00, 27.12it/s]\u001b[0m\n",
      "\u001b[A\u001b[A\n",
      " 81%|\u001b[38;2;30;71;6m#################################################################6               \u001b[0m| 81/100 [00:03<00:00, 27.35it/s]\u001b[0m\n",
      "\u001b[A\u001b[A\n",
      " 84%|\u001b[38;2;30;71;6m####################################################################             \u001b[0m| 84/100 [00:03<00:00, 27.17it/s]\u001b[0m\n",
      "\u001b[A\u001b[A\n",
      " 87%|\u001b[38;2;30;71;6m######################################################################4          \u001b[0m| 87/100 [00:03<00:00, 27.17it/s]\u001b[0m\n",
      "\u001b[A\u001b[A\n",
      " 90%|\u001b[38;2;30;71;6m########################################################################9        \u001b[0m| 90/100 [00:03<00:00, 27.61it/s]\u001b[0m\n",
      "\u001b[A\u001b[A\n",
      " 93%|\u001b[38;2;30;71;6m###########################################################################3     \u001b[0m| 93/100 [00:03<00:00, 27.48it/s]\u001b[0m\n",
      "\u001b[A\u001b[A\n",
      " 96%|\u001b[38;2;30;71;6m#############################################################################7   \u001b[0m| 96/100 [00:03<00:00, 27.45it/s]\u001b[0m\n",
      "\u001b[A\u001b[A\n",
      " 99%|\u001b[38;2;30;71;6m################################################################################1\u001b[0m| 99/100 [00:03<00:00, 27.02it/s]\u001b[0m\n",
      "\u001b[A\u001b[A\n",
      "100%|\u001b[38;2;30;71;6m################################################################################\u001b[0m| 100/100 [00:03<00:00, 26.94it/s]\u001b[0m\n",
      "\u001b[32m2024-10-28 14:28:35.978\u001b[0m | \u001b[1mINFO    \u001b[0m | \u001b[36mmltrainer.trainer\u001b[0m:\u001b[36mreport\u001b[0m:\u001b[36m189\u001b[0m - \u001b[1mEpoch 2 train 0.7538 test 0.7138 metric ['0.7369']\u001b[0m\n",
      "100%|\u001b[38;2;30;71;6m####################################################################################\u001b[0m| 3/3 [00:15<00:00,  5.32s/it]\u001b[0m\n",
      "\u001b[A\n",
      "100%|\u001b[38;2;30;71;6m####################################################################################\u001b[0m| 3/3 [00:15<00:00,  5.32s/it]\u001b[0m\n"
     ]
    },
    {
     "name": "stdout",
     "output_type": "stream",
     "text": [
      "100%|██████████████████████████████████████████████████| 3/3 [00:37<00:00, 12.56s/trial, best loss: 0.7137838527560234]\n"
     ]
    }
   ],
   "source": [
    "best_result = fmin(\n",
    "    fn=objective,\n",
    "    space=search_space,\n",
    "    algo=tpe.suggest,\n",
    "    max_evals=3,\n",
    "    trials=Trials()\n",
    ")"
   ]
  },
  {
   "attachments": {},
   "cell_type": "markdown",
   "metadata": {},
   "source": [
    "After running this, you can look at the best_result"
   ]
  },
  {
   "cell_type": "code",
   "execution_count": 17,
   "metadata": {},
   "outputs": [
    {
     "data": {
      "text/plain": [
       "{'filters': 96.0, 'units1': 56.0, 'units2': 88.0}"
      ]
     },
     "execution_count": 17,
     "metadata": {},
     "output_type": "execute_result"
    }
   ],
   "source": [
    "best_result"
   ]
  },
  {
   "attachments": {},
   "cell_type": "markdown",
   "metadata": {},
   "source": [
    "But you can also explore the UI from mlflow. It is pretty nice. The help you out, you can use the makefile by first navigating to `/notebooks/2_convolutions` in the terminal and then typing `make show_logs`. This starts a server you can open at `localhost:5000` . Also, have a look at the `Makefile` in this folder to see what you execute. It save the user from typing an inconvenient long and complex command every time."
   ]
  },
  {
   "cell_type": "code",
   "execution_count": null,
   "metadata": {},
   "outputs": [],
   "source": []
  }
 ],
 "metadata": {
  "kernelspec": {
   "display_name": "Python 3 (ipykernel)",
   "language": "python",
   "name": "python3"
  },
  "language_info": {
   "codemirror_mode": {
    "name": "ipython",
    "version": 3
   },
   "file_extension": ".py",
   "mimetype": "text/x-python",
   "name": "python",
   "nbconvert_exporter": "python",
   "pygments_lexer": "ipython3",
   "version": "3.11.9"
  },
  "vscode": {
   "interpreter": {
    "hash": "45c41bdaf5373703b03bba2d9bd89c97dc8ee5add9f1112e039ff04603b8e2ee"
   }
  }
 },
 "nbformat": 4,
 "nbformat_minor": 4
}
